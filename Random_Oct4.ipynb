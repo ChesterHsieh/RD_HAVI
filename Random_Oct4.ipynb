{
 "cells": [
  {
   "cell_type": "markdown",
   "metadata": {},
   "source": [
    "# Havi Random"
   ]
  },
  {
   "cell_type": "code",
   "execution_count": 7,
   "metadata": {},
   "outputs": [],
   "source": [
    "import numpy as np\n",
    "import pandas as pd\n",
    "import matplotlib.pyplot as plt\n",
    "import seaborn as sns\n",
    "import warnings\n",
    "#warnings.filterwarnings('ignore')\n",
    "%matplotlib inline  \n",
    "\n",
    "### Optimization \n",
    "from scipy.optimize import brute\n",
    "from scipy import optimize\n",
    "import scipy.optimize as opt  \n",
    "\n",
    "### Cluster \n",
    "from sklearn.mixture import GaussianMixture\n",
    "from sklearn.model_selection import StratifiedKFold\n",
    "from sklearn.naive_bayes import GaussianNB\n",
    "from mpl_toolkits.mplot3d import Axes3D\n",
    "from sklearn.cluster import KMeans\n",
    "from sklearn import datasets\n",
    "from sklearn.metrics import silhouette_samples, silhouette_score\n",
    "\n",
    "\n",
    "## Graph\n",
    "import plotly.graph_objs as go\n",
    "from plotly import tools\n",
    "import plotly.plotly as py\n",
    "import plotly\n",
    "loca_path = './'"
   ]
  },
  {
   "cell_type": "code",
   "execution_count": null,
   "metadata": {
    "collapsed": true
   },
   "outputs": [],
   "source": []
  },
  {
   "cell_type": "markdown",
   "metadata": {},
   "source": [
    "### Reading the DC Volume and Items data"
   ]
  },
  {
   "cell_type": "code",
   "execution_count": 8,
   "metadata": {},
   "outputs": [
    {
     "ename": "ImportError",
     "evalue": "Install xlrd >= 0.9.0 for Excel support",
     "output_type": "error",
     "traceback": [
      "\u001b[1;31m---------------------------------------------------------------------------\u001b[0m",
      "\u001b[1;31mImportError\u001b[0m                               Traceback (most recent call last)",
      "\u001b[1;32mc:\\users\\weilan\\appdata\\local\\programs\\python\\python35\\lib\\site-packages\\pandas\\io\\excel.py\u001b[0m in \u001b[0;36m__init__\u001b[1;34m(self, io, **kwds)\u001b[0m\n\u001b[0;32m    260\u001b[0m         \u001b[1;32mtry\u001b[0m\u001b[1;33m:\u001b[0m\u001b[1;33m\u001b[0m\u001b[0m\n\u001b[1;32m--> 261\u001b[1;33m             \u001b[1;32mimport\u001b[0m \u001b[0mxlrd\u001b[0m\u001b[1;33m\u001b[0m\u001b[0m\n\u001b[0m\u001b[0;32m    262\u001b[0m         \u001b[1;32mexcept\u001b[0m \u001b[0mImportError\u001b[0m\u001b[1;33m:\u001b[0m\u001b[1;33m\u001b[0m\u001b[0m\n",
      "\u001b[1;31mImportError\u001b[0m: No module named 'xlrd'",
      "\nDuring handling of the above exception, another exception occurred:\n",
      "\u001b[1;31mImportError\u001b[0m                               Traceback (most recent call last)",
      "\u001b[1;32m<ipython-input-8-6e2aef8b0da4>\u001b[0m in \u001b[0;36m<module>\u001b[1;34m()\u001b[0m\n\u001b[1;32m----> 1\u001b[1;33m \u001b[0mDC_Volume\u001b[0m \u001b[1;33m=\u001b[0m \u001b[0mpd\u001b[0m\u001b[1;33m.\u001b[0m\u001b[0mread_excel\u001b[0m\u001b[1;33m(\u001b[0m\u001b[0mloca_path\u001b[0m\u001b[1;33m+\u001b[0m\u001b[1;34m\"START HERE_DC Volumes with Case Attributes.xlsx\"\u001b[0m\u001b[1;33m)\u001b[0m\u001b[1;33m\u001b[0m\u001b[0m\n\u001b[0m\u001b[0;32m      2\u001b[0m \u001b[0mitems\u001b[0m \u001b[1;33m=\u001b[0m \u001b[0mpd\u001b[0m\u001b[1;33m.\u001b[0m\u001b[0mread_excel\u001b[0m\u001b[1;33m(\u001b[0m\u001b[0mloca_path\u001b[0m\u001b[1;33m+\u001b[0m\u001b[1;34m\"START HERE_DC Volumes with Case Attributes.xlsx\"\u001b[0m\u001b[1;33m,\u001b[0m \u001b[0msheetname\u001b[0m\u001b[1;33m=\u001b[0m\u001b[1;36m1\u001b[0m\u001b[1;33m)\u001b[0m\u001b[1;33m\u001b[0m\u001b[0m\n",
      "\u001b[1;32mc:\\users\\weilan\\appdata\\local\\programs\\python\\python35\\lib\\site-packages\\pandas\\util\\_decorators.py\u001b[0m in \u001b[0;36mwrapper\u001b[1;34m(*args, **kwargs)\u001b[0m\n\u001b[0;32m    116\u001b[0m                 \u001b[1;32melse\u001b[0m\u001b[1;33m:\u001b[0m\u001b[1;33m\u001b[0m\u001b[0m\n\u001b[0;32m    117\u001b[0m                     \u001b[0mkwargs\u001b[0m\u001b[1;33m[\u001b[0m\u001b[0mnew_arg_name\u001b[0m\u001b[1;33m]\u001b[0m \u001b[1;33m=\u001b[0m \u001b[0mnew_arg_value\u001b[0m\u001b[1;33m\u001b[0m\u001b[0m\n\u001b[1;32m--> 118\u001b[1;33m             \u001b[1;32mreturn\u001b[0m \u001b[0mfunc\u001b[0m\u001b[1;33m(\u001b[0m\u001b[1;33m*\u001b[0m\u001b[0margs\u001b[0m\u001b[1;33m,\u001b[0m \u001b[1;33m**\u001b[0m\u001b[0mkwargs\u001b[0m\u001b[1;33m)\u001b[0m\u001b[1;33m\u001b[0m\u001b[0m\n\u001b[0m\u001b[0;32m    119\u001b[0m         \u001b[1;32mreturn\u001b[0m \u001b[0mwrapper\u001b[0m\u001b[1;33m\u001b[0m\u001b[0m\n\u001b[0;32m    120\u001b[0m     \u001b[1;32mreturn\u001b[0m \u001b[0m_deprecate_kwarg\u001b[0m\u001b[1;33m\u001b[0m\u001b[0m\n",
      "\u001b[1;32mc:\\users\\weilan\\appdata\\local\\programs\\python\\python35\\lib\\site-packages\\pandas\\io\\excel.py\u001b[0m in \u001b[0;36mread_excel\u001b[1;34m(io, sheet_name, header, skiprows, skip_footer, index_col, names, usecols, parse_dates, date_parser, na_values, thousands, convert_float, converters, dtype, true_values, false_values, engine, squeeze, **kwds)\u001b[0m\n\u001b[0;32m    228\u001b[0m \u001b[1;33m\u001b[0m\u001b[0m\n\u001b[0;32m    229\u001b[0m     \u001b[1;32mif\u001b[0m \u001b[1;32mnot\u001b[0m \u001b[0misinstance\u001b[0m\u001b[1;33m(\u001b[0m\u001b[0mio\u001b[0m\u001b[1;33m,\u001b[0m \u001b[0mExcelFile\u001b[0m\u001b[1;33m)\u001b[0m\u001b[1;33m:\u001b[0m\u001b[1;33m\u001b[0m\u001b[0m\n\u001b[1;32m--> 230\u001b[1;33m         \u001b[0mio\u001b[0m \u001b[1;33m=\u001b[0m \u001b[0mExcelFile\u001b[0m\u001b[1;33m(\u001b[0m\u001b[0mio\u001b[0m\u001b[1;33m,\u001b[0m \u001b[0mengine\u001b[0m\u001b[1;33m=\u001b[0m\u001b[0mengine\u001b[0m\u001b[1;33m)\u001b[0m\u001b[1;33m\u001b[0m\u001b[0m\n\u001b[0m\u001b[0;32m    231\u001b[0m \u001b[1;33m\u001b[0m\u001b[0m\n\u001b[0;32m    232\u001b[0m     return io._parse_excel(\n",
      "\u001b[1;32mc:\\users\\weilan\\appdata\\local\\programs\\python\\python35\\lib\\site-packages\\pandas\\io\\excel.py\u001b[0m in \u001b[0;36m__init__\u001b[1;34m(self, io, **kwds)\u001b[0m\n\u001b[0;32m    261\u001b[0m             \u001b[1;32mimport\u001b[0m \u001b[0mxlrd\u001b[0m\u001b[1;33m\u001b[0m\u001b[0m\n\u001b[0;32m    262\u001b[0m         \u001b[1;32mexcept\u001b[0m \u001b[0mImportError\u001b[0m\u001b[1;33m:\u001b[0m\u001b[1;33m\u001b[0m\u001b[0m\n\u001b[1;32m--> 263\u001b[1;33m             \u001b[1;32mraise\u001b[0m \u001b[0mImportError\u001b[0m\u001b[1;33m(\u001b[0m\u001b[0merr_msg\u001b[0m\u001b[1;33m)\u001b[0m\u001b[1;33m\u001b[0m\u001b[0m\n\u001b[0m\u001b[0;32m    264\u001b[0m         \u001b[1;32melse\u001b[0m\u001b[1;33m:\u001b[0m\u001b[1;33m\u001b[0m\u001b[0m\n\u001b[0;32m    265\u001b[0m             \u001b[0mver\u001b[0m \u001b[1;33m=\u001b[0m \u001b[0mtuple\u001b[0m\u001b[1;33m(\u001b[0m\u001b[0mmap\u001b[0m\u001b[1;33m(\u001b[0m\u001b[0mint\u001b[0m\u001b[1;33m,\u001b[0m \u001b[0mxlrd\u001b[0m\u001b[1;33m.\u001b[0m\u001b[0m__VERSION__\u001b[0m\u001b[1;33m.\u001b[0m\u001b[0msplit\u001b[0m\u001b[1;33m(\u001b[0m\u001b[1;34m\".\"\u001b[0m\u001b[1;33m)\u001b[0m\u001b[1;33m[\u001b[0m\u001b[1;33m:\u001b[0m\u001b[1;36m2\u001b[0m\u001b[1;33m]\u001b[0m\u001b[1;33m)\u001b[0m\u001b[1;33m)\u001b[0m\u001b[1;33m\u001b[0m\u001b[0m\n",
      "\u001b[1;31mImportError\u001b[0m: Install xlrd >= 0.9.0 for Excel support"
     ]
    }
   ],
   "source": [
    "DC_Volume = pd.read_excel(loca_path+\"START HERE_DC Volumes with Case Attributes.xlsx\")\n",
    "items = pd.read_excel(loca_path+\"START HERE_DC Volumes with Case Attributes.xlsx\", sheetname=1)"
   ]
  },
  {
   "cell_type": "code",
   "execution_count": 6,
   "metadata": {},
   "outputs": [
    {
     "data": {
      "text/html": [
       "<div>\n",
       "<style>\n",
       "    .dataframe thead tr:only-child th {\n",
       "        text-align: right;\n",
       "    }\n",
       "\n",
       "    .dataframe thead th {\n",
       "        text-align: left;\n",
       "    }\n",
       "\n",
       "    .dataframe tbody tr th {\n",
       "        vertical-align: top;\n",
       "    }\n",
       "</style>\n",
       "<table border=\"1\" class=\"dataframe\">\n",
       "  <thead>\n",
       "    <tr style=\"text-align: right;\">\n",
       "      <th></th>\n",
       "      <th>Wrin Prefix</th>\n",
       "      <th>D</th>\n",
       "      <th>F</th>\n",
       "      <th>R</th>\n",
       "      <th>Rank</th>\n",
       "    </tr>\n",
       "  </thead>\n",
       "  <tbody>\n",
       "    <tr>\n",
       "      <th>0</th>\n",
       "      <td>00004-FRENCH FRIES</td>\n",
       "      <td>NaN</td>\n",
       "      <td>2176482.0</td>\n",
       "      <td>NaN</td>\n",
       "      <td>1.0</td>\n",
       "    </tr>\n",
       "    <tr>\n",
       "      <th>1</th>\n",
       "      <td>00407-CHICKEN NUGGETS</td>\n",
       "      <td>NaN</td>\n",
       "      <td>757977.0</td>\n",
       "      <td>NaN</td>\n",
       "      <td>2.0</td>\n",
       "    </tr>\n",
       "    <tr>\n",
       "      <th>2</th>\n",
       "      <td>00005-10/1 BEEF PATTY</td>\n",
       "      <td>NaN</td>\n",
       "      <td>652402.0</td>\n",
       "      <td>NaN</td>\n",
       "      <td>3.0</td>\n",
       "    </tr>\n",
       "    <tr>\n",
       "      <th>3</th>\n",
       "      <td>00070-HASH BROWNS</td>\n",
       "      <td>NaN</td>\n",
       "      <td>648789.0</td>\n",
       "      <td>NaN</td>\n",
       "      <td>4.0</td>\n",
       "    </tr>\n",
       "    <tr>\n",
       "      <th>4</th>\n",
       "      <td>02813-READY MADE BISCUITS</td>\n",
       "      <td>NaN</td>\n",
       "      <td>438040.0</td>\n",
       "      <td>NaN</td>\n",
       "      <td>5.0</td>\n",
       "    </tr>\n",
       "  </tbody>\n",
       "</table>\n",
       "</div>"
      ],
      "text/plain": [
       "                 Wrin Prefix   D          F   R  Rank\n",
       "0         00004-FRENCH FRIES NaN  2176482.0 NaN   1.0\n",
       "1      00407-CHICKEN NUGGETS NaN   757977.0 NaN   2.0\n",
       "2      00005-10/1 BEEF PATTY NaN   652402.0 NaN   3.0\n",
       "3          00070-HASH BROWNS NaN   648789.0 NaN   4.0\n",
       "4  02813-READY MADE BISCUITS NaN   438040.0 NaN   5.0"
      ]
     },
     "execution_count": 6,
     "metadata": {},
     "output_type": "execute_result"
    }
   ],
   "source": [
    "items.head()"
   ]
  },
  {
   "cell_type": "code",
   "execution_count": 7,
   "metadata": {},
   "outputs": [
    {
     "data": {
      "text/html": [
       "<div>\n",
       "<style>\n",
       "    .dataframe thead tr:only-child th {\n",
       "        text-align: right;\n",
       "    }\n",
       "\n",
       "    .dataframe thead th {\n",
       "        text-align: left;\n",
       "    }\n",
       "\n",
       "    .dataframe tbody tr th {\n",
       "        vertical-align: top;\n",
       "    }\n",
       "</style>\n",
       "<table border=\"1\" class=\"dataframe\">\n",
       "  <thead>\n",
       "    <tr style=\"text-align: right;\">\n",
       "      <th></th>\n",
       "      <th>Supplier Parent Name</th>\n",
       "      <th>Supplier WSI#</th>\n",
       "      <th>DC Receipts Cases Received</th>\n",
       "      <th>Wrin Prefix</th>\n",
       "      <th>Wrin Description</th>\n",
       "      <th>Wrin Temp Zone</th>\n",
       "      <th>WW Case Height</th>\n",
       "      <th>WW Case Length</th>\n",
       "      <th>WW Case Width</th>\n",
       "      <th>WW Weight UOM</th>\n",
       "      <th>WW Pallet TI x HI</th>\n",
       "      <th>WW Gross Weight (LBS)</th>\n",
       "      <th>WW Case Dimensions (inches)</th>\n",
       "      <th>DC ID</th>\n",
       "    </tr>\n",
       "  </thead>\n",
       "  <tbody>\n",
       "    <tr>\n",
       "      <th>0</th>\n",
       "      <td>MCCAIN FOODS</td>\n",
       "      <td>47883</td>\n",
       "      <td>728707</td>\n",
       "      <td>00004-FRENCH FRIES</td>\n",
       "      <td>00004849-FRIES/440 NATURAL F16/6</td>\n",
       "      <td>F</td>\n",
       "      <td>13.5</td>\n",
       "      <td>16.38</td>\n",
       "      <td>13.13</td>\n",
       "      <td>LB</td>\n",
       "      <td>9.00 x 6.00</td>\n",
       "      <td>38.0</td>\n",
       "      <td>16.38 x 13.13 x 13.50</td>\n",
       "      <td>7</td>\n",
       "    </tr>\n",
       "  </tbody>\n",
       "</table>\n",
       "</div>"
      ],
      "text/plain": [
       "  Supplier Parent Name  Supplier WSI#  DC Receipts Cases Received  \\\n",
       "0         MCCAIN FOODS          47883                      728707   \n",
       "\n",
       "          Wrin Prefix                  Wrin Description Wrin Temp Zone  \\\n",
       "0  00004-FRENCH FRIES  00004849-FRIES/440 NATURAL F16/6              F   \n",
       "\n",
       "   WW Case Height  WW Case Length  WW Case Width WW Weight UOM  \\\n",
       "0            13.5           16.38          13.13            LB   \n",
       "\n",
       "  WW Pallet TI x HI  WW Gross Weight (LBS) WW Case Dimensions (inches)  DC ID  \n",
       "0       9.00 x 6.00                   38.0       16.38 x 13.13 x 13.50      7  "
      ]
     },
     "execution_count": 7,
     "metadata": {},
     "output_type": "execute_result"
    }
   ],
   "source": [
    "DC_Volume.head(1)\n"
   ]
  },
  {
   "cell_type": "code",
   "execution_count": 8,
   "metadata": {
    "scrolled": true
   },
   "outputs": [
    {
     "data": {
      "text/plain": [
       "Index(['Supplier Parent Name', 'Supplier WSI#', 'DC Receipts Cases Received',\n",
       "       'Wrin Prefix', 'Wrin Description', 'Wrin Temp Zone', 'WW Case Height',\n",
       "       'WW Case Length', 'WW Case Width', 'WW Weight UOM', 'WW Pallet TI x HI',\n",
       "       'WW Gross Weight (LBS)', 'WW Case Dimensions (inches)', 'DC ID'],\n",
       "      dtype='object')"
      ]
     },
     "execution_count": 8,
     "metadata": {},
     "output_type": "execute_result"
    }
   ],
   "source": [
    "DC_Volume.columns"
   ]
  },
  {
   "cell_type": "markdown",
   "metadata": {},
   "source": [
    "### Change L, W and H ranking from high to low"
   ]
  },
  {
   "cell_type": "code",
   "execution_count": 16,
   "metadata": {},
   "outputs": [],
   "source": [
    "l = DC_Volume.apply(lambda row: max(row['WW Case Length'], row['WW Case Width'], row['WW Case Height']), axis=1)\n",
    "h = DC_Volume.apply(lambda row: min(row['WW Case Length'], row['WW Case Width'], row['WW Case Height']), axis=1)\n",
    "w = DC_Volume['WW Case Length'] + DC_Volume['WW Case Width'] + DC_Volume['WW Case Height'] - l - h"
   ]
  },
  {
   "cell_type": "code",
   "execution_count": null,
   "metadata": {
    "collapsed": true
   },
   "outputs": [],
   "source": [
    "DC_Volume['WW Case Length'] = l\n",
    "DC_Volume['WW Case Width'] = w\n",
    "DC_Volume['WW Case Height'] = h"
   ]
  },
  {
   "cell_type": "markdown",
   "metadata": {},
   "source": [
    "## Select temperature zoon"
   ]
  },
  {
   "cell_type": "code",
   "execution_count": 9,
   "metadata": {},
   "outputs": [],
   "source": [
    "df_F = DC_Volume[DC_Volume['Wrin Temp Zone']=='F']"
   ]
  },
  {
   "cell_type": "code",
   "execution_count": 152,
   "metadata": {
    "scrolled": true
   },
   "outputs": [
    {
     "name": "stderr",
     "output_type": "stream",
     "text": [
      "C:\\Program Files\\Anaconda3\\lib\\site-packages\\ipykernel\\__main__.py:1: UserWarning:\n",
      "\n",
      "Boolean Series key will be reindexed to match DataFrame index.\n",
      "\n"
     ]
    }
   ],
   "source": [
    "top_15_inF = items[items.F.notnull()][items.Rank.notnull()]['Wrin Prefix'];\n",
    "df_F = df_F[df_F['Wrin Prefix'].isin(top_15_inF)];"
   ]
  },
  {
   "cell_type": "code",
   "execution_count": 11,
   "metadata": {
    "collapsed": true
   },
   "outputs": [],
   "source": [
    "df_F = DC_Volume[DC_Volume['Wrin Temp Zone']=='F']"
   ]
  },
  {
   "cell_type": "markdown",
   "metadata": {},
   "source": [
    "## Cluster to pick the Size\n",
    "\n"
   ]
  },
  {
   "cell_type": "code",
   "execution_count": 12,
   "metadata": {},
   "outputs": [],
   "source": [
    "def space_coef(input_size,*param):\n",
    "    in_val = space_coef_input(input_size,*param)\n",
    "    out_val  = space_coef_outbound(input_size,*param)\n",
    "    return -(in_val**2 + out_val**2)**0.5"
   ]
  },
  {
   "cell_type": "code",
   "execution_count": 13,
   "metadata": {
    "collapsed": true
   },
   "outputs": [],
   "source": [
    "##  Maximum volume efficiency\n",
    "#def space_coef(input_size,pallet ='O'):\n",
    "def space_coef_input(input_size,*param):\n",
    "    ## Define the pallet\n",
    "    height,length,width = input_size\n",
    "    pallet ='O'\n",
    "#     if params:\n",
    "#         pallet = params\n",
    "#     else:\n",
    "#         pallet = 'O'\n",
    "        \n",
    "    coef = 0\n",
    "    if pallet == 'O':# height ,weight,length for pallet\n",
    "        Hp = 100\n",
    "        Lp = 48\n",
    "        Wp = 40\n",
    "    else:\n",
    "        Hp = 100\n",
    "        Lp = 42\n",
    "        Wp = 29\n",
    "    vol_case = height*length*width\n",
    "    num_H = np.floor(Hp/height)\n",
    "    num_L = np.floor(Lp/length)\n",
    "    num_W = np.floor(Wp/width)\n",
    "    coef = num_H*num_L*num_W*(vol_case)/(Hp*Lp*Wp)\n",
    "    # since all the optimization function I can find so far is about to find minimum value, \n",
    "    # that's the most easy way to get the value right...\n",
    "    return -coef\n",
    "    "
   ]
  },
  {
   "cell_type": "code",
   "execution_count": 14,
   "metadata": {
    "collapsed": true
   },
   "outputs": [],
   "source": [
    "##  Maximum volume efficiency\n",
    "#def space_coef(input_size,pallet ='O'):\n",
    "def space_coef_outbound(input_size,*param):\n",
    "    ## Define the pallet\n",
    "    height,length,width = input_size\n",
    "    pallet ='I'\n",
    "#     if params:\n",
    "#         pallet = params\n",
    "#     else:\n",
    "#         pallet = 'O'\n",
    "        \n",
    "    coef = 0\n",
    "    if pallet == 'O':# height ,weight,length for pallet\n",
    "        Hp = 100\n",
    "        Lp = 48\n",
    "        Wp = 40\n",
    "    else:\n",
    "        Hp = 100\n",
    "        Lp = 42\n",
    "        Wp = 29\n",
    "    vol_case = height*length*width\n",
    "    num_H = np.floor(Hp/height)\n",
    "    num_L = np.floor(Lp/length)\n",
    "    num_W = np.floor(Wp/width)\n",
    "    coef = num_H*num_L*num_W*(vol_case)/(Hp*Lp*Wp)\n",
    "    # since all the optimization function I can find so far is about to find minimum value, \n",
    "    # that's the most easy way to get the value right...\n",
    "    return -coef"
   ]
  },
  {
   "cell_type": "code",
   "execution_count": 15,
   "metadata": {
    "collapsed": true
   },
   "outputs": [],
   "source": [
    "#brief create interval for the matrix, want to use 0.2 inch as an unit.\n",
    "#input mat it should be np.array, n x 3 matrix\n",
    "#input\n",
    "#Return:   2 element list, lower bound,  upeper bound\n",
    "def UpLowbound_gen(mat,limit = 'vol'):\n",
    "    pect_ = 1.1 # 10% increase or decreaase\n",
    "    unit = 1/0.2\n",
    "    if limit =='vol':\n",
    "        pect_ = pect_ ** (1. / 3)\n",
    "\n",
    "    else:\n",
    "        pect_ = pect_\n",
    "        \n",
    "    upper_mat = np.multiply(mat,pect_)\n",
    "    upper_mat = np.divide(np.floor(np.multiply(upper_mat,unit)),unit)\n",
    "    lower_mat = np.around(np.divide(mat,pect_),decimals=2)\n",
    "    lower_mat = np.divide(np.ceil(np.multiply(lower_mat,unit)),unit)\n",
    "    return lower_mat, upper_mat,np.dstack([lower_mat,upper_mat])"
   ]
  },
  {
   "cell_type": "markdown",
   "metadata": {},
   "source": [
    "### Kmeans Cluster  Create"
   ]
  },
  {
   "cell_type": "markdown",
   "metadata": {},
   "source": [
    "K-means to get new cluster"
   ]
  },
  {
   "cell_type": "code",
   "execution_count": 16,
   "metadata": {
    "scrolled": true
   },
   "outputs": [],
   "source": [
    "from sklearn import svm\n",
    "from sklearn.covariance import EllipticEnvelope\n",
    "from sklearn.ensemble import IsolationForest\n",
    "from sklearn.neighbors import LocalOutlierFactor"
   ]
  },
  {
   "cell_type": "code",
   "execution_count": 88,
   "metadata": {
    "collapsed": true
   },
   "outputs": [],
   "source": [
    "def cluster_outlier(df):\n",
    "    n_samples = df_F.shape[0]\n",
    "    # define two outlier detection tools to be compared\n",
    "    clf = svm.OneClassSVM(nu=0.05, kernel=\"rbf\", gamma=0.1)\n",
    "    clf.fit(df)\n",
    "    ls_outlier = clf.predict(df)\n",
    "    return ls_outlier"
   ]
  },
  {
   "cell_type": "code",
   "execution_count": 135,
   "metadata": {
    "scrolled": false
   },
   "outputs": [],
   "source": [
    "def outlier_marker(df,k):\n",
    "    for i in range(k):\n",
    "        ls_outlier_result = cluster_outlier(df[df['class'] == i].iloc[:,0:3])\n",
    "        ls_index = df[df['class'] == i].index\n",
    "        for j in range(len(ls_outlier_result)):\n",
    "            if ls_outlier_result[j] == -1:\n",
    "                df.loc[ls_index[j],['class']] = -1\n",
    "    return df\n",
    "        "
   ]
  },
  {
   "cell_type": "code",
   "execution_count": 153,
   "metadata": {},
   "outputs": [],
   "source": [
    "X_train = df_F.loc[:,['WW Case Height','WW Case Length', 'WW Case Width']]"
   ]
  },
  {
   "cell_type": "markdown",
   "metadata": {},
   "source": [
    "elbow method for getting the number of clusters"
   ]
  },
  {
   "cell_type": "markdown",
   "metadata": {},
   "source": [
    "### silhouette_score for Picking Cluster number\n",
    "~~~ modified by grid search. later."
   ]
  },
  {
   "cell_type": "code",
   "execution_count": 51,
   "metadata": {
    "scrolled": true
   },
   "outputs": [],
   "source": [
    "def silhouette_score_cluster_num(df):\n",
    "    ls_sil = list()\n",
    "    for i in range(2,int(len(df)/2)):\n",
    "        kmean_estimators  = KMeans(n_clusters=i)\n",
    "        kmean_estimators.fit(X_train)\n",
    "        labels = kmean_estimators.labels_\n",
    "        score = silhouette_score(df, labels, metric='euclidean')\n",
    "        ls_sil.append(score)\n",
    "    return np.argmax(ls_sil)-1"
   ]
  },
  {
   "cell_type": "markdown",
   "metadata": {},
   "source": [
    "### Pick the best K from silhouette_score\n",
    "K number dcided by solhoutte number\n"
   ]
  },
  {
   "cell_type": "code",
   "execution_count": 71,
   "metadata": {
    "collapsed": true
   },
   "outputs": [],
   "source": [
    "k = silhouette_score_cluster_num(X_train);k"
   ]
  },
  {
   "cell_type": "code",
   "execution_count": 154,
   "metadata": {
    "collapsed": true
   },
   "outputs": [],
   "source": [
    "kmean_estimators  = KMeans(n_clusters=k)\n",
    "kmean_estimators.fit(X_train)\n",
    "labels = kmean_estimators.labels_\n",
    "X_train['class'] = labels"
   ]
  },
  {
   "cell_type": "code",
   "execution_count": 155,
   "metadata": {
    "scrolled": true
   },
   "outputs": [],
   "source": [
    "X_train = outlier_marker(X_train,k);"
   ]
  },
  {
   "cell_type": "markdown",
   "metadata": {},
   "source": [
    "### Plot 3-D graph"
   ]
  },
  {
   "cell_type": "code",
   "execution_count": 78,
   "metadata": {
    "collapsed": true
   },
   "outputs": [],
   "source": [
    "def color_gen(num):\n",
    "    ls_color =list()\n",
    "    for i in range(num):\n",
    "        ls_color.append(\"rgb({0:d},{1:d},{2:d})\".format(int(np.random.uniform(128,255,1)),int(np.random.uniform(0,255,1)),int(np.random.uniform(0,255,1))))\n",
    "    return ls_color"
   ]
  },
  {
   "cell_type": "code",
   "execution_count": 141,
   "metadata": {
    "scrolled": true
   },
   "outputs": [
    {
     "data": {
      "text/plain": [
       "'file://C:\\\\Users\\\\csblo\\\\Documents\\\\Math565\\\\HAVI\\\\RD_HAVI\\\\simple-3d-scatter.html'"
      ]
     },
     "execution_count": 141,
     "metadata": {},
     "output_type": "execute_result"
    }
   ],
   "source": [
    "data = []\n",
    "clusters = []\n",
    "colors = color_gen(k)\n",
    "for i in range(k):\n",
    "    color =  colors[i]\n",
    "    dx = X_train[X_train['class'] == i].iloc[:, 0],\n",
    "    dy = X_train[X_train['class'] == i].iloc[:,  1],\n",
    "    dz = X_train[X_train['class'] == i].iloc[:,  2],\n",
    "    x = dx[0]\n",
    "    y = dy[0]\n",
    "    z = dz[0]\n",
    "    trace = go.Scatter3d(\n",
    "        x = x, y = y, z = z,   \n",
    "        mode = 'markers',\n",
    "        marker = dict( size=10, color=color, line=dict(width=0) ) )\n",
    "    data.append( trace )\n",
    "\n",
    "color =  'rgb(0,0,0)'\n",
    "dx = X_train[X_train['class'] == -1].iloc[:, 0],\n",
    "dy = X_train[X_train['class'] == -1].iloc[:,  1],\n",
    "dz = X_train[X_train['class'] == -1].iloc[:,  2],\n",
    "x = dx[0]\n",
    "y = dy[0]\n",
    "z = dz[0]\n",
    "trace = go.Scatter3d(\n",
    "    x = x, y = y, z = z,   \n",
    "    mode = 'markers',\n",
    "    marker = dict( size=10, color=color, line=dict(width=0) ) )\n",
    "data.append( trace )\n",
    "\n",
    "\n",
    "layout = go.Layout(\n",
    "    title='Plot Title',\n",
    "    xaxis=dict(\n",
    "        title='x Axis',\n",
    "        titlefont=dict(\n",
    "            family='Courier New, monospace',\n",
    "            size=18,\n",
    "            color='#7f7f7f'\n",
    "        )\n",
    "    ),\n",
    "    yaxis=dict(\n",
    "        title='y Axis',\n",
    "        titlefont=dict(\n",
    "            family='Courier New, monospace',\n",
    "            size=18,\n",
    "            color='#7f7f7f'\n",
    "        )\n",
    "    )\n",
    ")\n",
    "fig = go.Figure(data=data, layout=layout)\n",
    "plotly.offline.plot(fig, filename='simple-3d-scatter.html')"
   ]
  },
  {
   "cell_type": "markdown",
   "metadata": {},
   "source": [
    "## Generate Case new size"
   ]
  },
  {
   "cell_type": "code",
   "execution_count": 158,
   "metadata": {},
   "outputs": [],
   "source": [
    "## to get the H,L,W range. \n",
    "kmean_estimators.cluster_centers_= X_train.iloc[:,0:3] ## Put the all data into optmize\n",
    "Lmat,Umat ,ULmat = UpLowbound_gen(kmean_estimators.cluster_centers_)\n",
    "ideal_input_size = list()\n",
    "for limit in ULmat:\n",
    "    H_MinMax, L_MinMax, W_MinMax = limit\n",
    "    rranges = (slice(H_MinMax[0],H_MinMax[1], 0.2), slice(L_MinMax[0],L_MinMax[1], 0.2)\n",
    "           ,slice(W_MinMax[0],W_MinMax[1], 0.2))\n",
    "    resbrute = brute(space_coef_input, rranges, full_output=True, finish=None)\n",
    "    ideal_input_size.append(resbrute[0])## ideal size is correspond to original cluster center."
   ]
  },
  {
   "cell_type": "code",
   "execution_count": 159,
   "metadata": {},
   "outputs": [
    {
     "data": {
      "text/plain": [
       "[array([ 13.8,  16. ,  13.2]),\n",
       " array([ 12.4,  16. ,  13.2]),\n",
       " array([ 12.4,  16. ,  13.2]),\n",
       " array([ 13.8,  16. ,  13.2]),\n",
       " array([ 12.4,  16. ,  13.2]),\n",
       " array([  8. ,  19.8,  12. ]),\n",
       " array([  8. ,  20.6,  12. ]),\n",
       " array([  8. ,  19.8,  12. ]),\n",
       " array([  7.6,  20.8,  10. ]),\n",
       " array([  8.2,  20.8,  10. ]),\n",
       " array([  8.2,  20.8,  10. ]),\n",
       " array([  8.4,  16. ,  13. ]),\n",
       " array([  8. ,  15.4,  13.2]),\n",
       " array([  8.2,  16. ,  13.2]),\n",
       " array([  8.2,  16. ,  13.2]),\n",
       " array([ 12.4,  16. ,  13.2]),\n",
       " array([ 12.4,  16. ,  13.2]),\n",
       " array([ 12.4,  16. ,  13.2]),\n",
       " array([ 12.4,  16. ,  11.8]),\n",
       " array([ 13. ,  16. ,  13.2]),\n",
       " array([ 12.4,  15.4,  12.8]),\n",
       " array([ 13. ,  16. ,  13.2]),\n",
       " array([ 12.4,  16. ,  13.2]),\n",
       " array([ 14. ,  16. ,  13.2]),\n",
       " array([ 14. ,  16. ,  13.2]),\n",
       " array([ 14. ,  16. ,  13.2]),\n",
       " array([ 11. ,  18. ,  13.2]),\n",
       " array([ 11. ,  18. ,  13.2]),\n",
       " array([  9. ,  16. ,  13.2]),\n",
       " array([  9.6,  17. ,  13.2]),\n",
       " array([ 12.4,  16. ,  13.2]),\n",
       " array([ 12.4,  16. ,  13.2]),\n",
       " array([ 16. ,  13. ,  12.4]),\n",
       " array([  8.8,  20. ,  13.2]),\n",
       " array([  8.2,  20. ,  13.2]),\n",
       " array([  8.2,  20. ,  13.2]),\n",
       " array([  8.4,  20.2,  13.2]),\n",
       " array([ 14. ,  18.2,  10. ]),\n",
       " array([ 12.4,  17.6,   9.6]),\n",
       " array([ 13.8,  17.4,   9.6]),\n",
       " array([ 13.4,  16. ,  13.8]),\n",
       " array([ 13.4,  16. ,  13.8]),\n",
       " array([ 13.4,  16. ,  13.8]),\n",
       " array([  9.6,  21. ,  16.2]),\n",
       " array([  9.6,  21. ,  16.2]),\n",
       " array([ 10. ,  21. ,  16.2]),\n",
       " array([  9.6,  21. ,  16.2]),\n",
       " array([ 10.8,  19.8,  13.2]),\n",
       " array([ 10.8,  19.8,  13.2]),\n",
       " array([ 10.8,  19.8,  13.2]),\n",
       " array([ 10.8,  19.8,  13.2]),\n",
       " array([ 13.4,  16. ,  13.2]),\n",
       " array([ 13.4,  16. ,  13.2]),\n",
       " array([ 13.4,  16. ,  13.2])]"
      ]
     },
     "execution_count": 159,
     "metadata": {},
     "output_type": "execute_result"
    }
   ],
   "source": [
    "ideal_input_size"
   ]
  },
  {
   "cell_type": "code",
   "execution_count": 150,
   "metadata": {},
   "outputs": [
    {
     "ename": "ValueError",
     "evalue": "too many values to unpack (expected 3)",
     "output_type": "error",
     "traceback": [
      "\u001b[0;31m---------------------------------------------------------------------------\u001b[0m",
      "\u001b[0;31mValueError\u001b[0m                                Traceback (most recent call last)",
      "\u001b[0;32m<ipython-input-150-ce6d23429c0b>\u001b[0m in \u001b[0;36m<module>\u001b[0;34m()\u001b[0m\n\u001b[1;32m      3\u001b[0m \u001b[0mideal_size\u001b[0m \u001b[1;33m=\u001b[0m \u001b[0mlist\u001b[0m\u001b[1;33m(\u001b[0m\u001b[1;33m)\u001b[0m\u001b[1;33m\u001b[0m\u001b[0m\n\u001b[1;32m      4\u001b[0m \u001b[1;32mfor\u001b[0m \u001b[0mlimit\u001b[0m \u001b[1;32min\u001b[0m \u001b[0mULmat\u001b[0m\u001b[1;33m:\u001b[0m\u001b[1;33m\u001b[0m\u001b[0m\n\u001b[0;32m----> 5\u001b[0;31m     \u001b[0mH_MinMax\u001b[0m\u001b[1;33m,\u001b[0m \u001b[0mL_MinMax\u001b[0m\u001b[1;33m,\u001b[0m \u001b[0mW_MinMax\u001b[0m \u001b[1;33m=\u001b[0m \u001b[0mlimit\u001b[0m\u001b[1;33m\u001b[0m\u001b[0m\n\u001b[0m\u001b[1;32m      6\u001b[0m     rranges = (slice(H_MinMax[0],H_MinMax[1], 0.2), slice(L_MinMax[0],L_MinMax[1], 0.2)\n\u001b[1;32m      7\u001b[0m            ,slice(W_MinMax[0],W_MinMax[1], 0.2))\n",
      "\u001b[0;31mValueError\u001b[0m: too many values to unpack (expected 3)"
     ]
    }
   ],
   "source": [
    "## to get the H,L,W range. \n",
    "Lmat,Umat ,ULmat = UpLowbound_gen(kmean_estimators.cluster_centers_)\n",
    "ideal_size = list()\n",
    "for limit in ULmat:\n",
    "    H_MinMax, L_MinMax, W_MinMax = limit\n",
    "    rranges = (slice(H_MinMax[0],H_MinMax[1], 0.2), slice(L_MinMax[0],L_MinMax[1], 0.2)\n",
    "           ,slice(W_MinMax[0],W_MinMax[1], 0.2))\n",
    "    resbrute = brute(space_coef, rranges, full_output=True, finish=None)\n",
    "    ideal_size.append(resbrute[0])## ideal size is correspond to original cluster center."
   ]
  },
  {
   "cell_type": "markdown",
   "metadata": {},
   "source": [
    "## Understanding the data"
   ]
  },
  {
   "cell_type": "markdown",
   "metadata": {},
   "source": [
    "### Mismatch of items"
   ]
  },
  {
   "cell_type": "markdown",
   "metadata": {},
   "source": [
    "In comparing the unique \"WRIN PREFIX\", the following items are missing from \"DC Volumes\" and \"Xtab-Temp Zone X WRIN\" sheets.\n",
    "1. 00042-DIET COKE SYRUP - with 152,368 cases received\n",
    "2. 00168-SPRITE DRINK SYRUP - with 142,032 cases received\n",
    "\n",
    "Both the WRIN PREFIX has temperature zone as Dry with the same Supplier \"COCA-COLA COMPANY (THE)/MCDONALDS ACCOUNT GROUP\". Adding these two tiems in the \"Xtab-Temp Zone X WRIN\" sheet will change the rank of other items."
   ]
  },
  {
   "cell_type": "code",
   "execution_count": null,
   "metadata": {},
   "outputs": [],
   "source": [
    "temperature = ('F', 'R', 'D')\n",
    "for i in temperature:\n",
    "    print(\"Temp zone\", i ,\"missing:\",set(DC_Volume['Wrin Prefix'][DC_Volume['Wrin Temp Zone'] == i].unique()).symmetric_difference(set(items['Wrin Prefix'][items[i].notnull()].unique())))"
   ]
  },
  {
   "cell_type": "code",
   "execution_count": null,
   "metadata": {},
   "outputs": [],
   "source": [
    "print(\"Total number of items manufactured and distributed:\",len(DC_Volume['Wrin Prefix'].unique()), \"items\")\n",
    "print(\"Number of DCs:\", DC_Volume['DC ID'].unique())\n",
    "print(\"Total number of suppliers:\",len(DC_Volume['Supplier Parent Name'].unique()))\n",
    "print(\"Freezer items:\",len(DC_Volume['Wrin Prefix'][DC_Volume['Wrin Temp Zone'] == \"F\"].unique()))\n",
    "print(\"Dry items:\",len(DC_Volume['Wrin Prefix'][DC_Volume['Wrin Temp Zone'] == \"D\"].unique()))\n",
    "print(\"Refrigerator items:\",len(DC_Volume['Wrin Prefix'][DC_Volume['Wrin Temp Zone'] == \"R\"].unique()))"
   ]
  },
  {
   "cell_type": "markdown",
   "metadata": {},
   "source": [
    "### Wrong Temperature Zone"
   ]
  },
  {
   "cell_type": "markdown",
   "metadata": {},
   "source": [
    "\"LOPEZ FOOD INC\" is the only Supplier to pack Beef patty in Temp Zone \"R\" and sent 105 cases in total. They are also responsible for sending \"Canadian Bacon/Natural juice\" in Temp Zone \"R\""
   ]
  },
  {
   "cell_type": "code",
   "execution_count": null,
   "metadata": {},
   "outputs": [],
   "source": [
    "DC_Volume[(DC_Volume['Wrin Prefix']=='00006-4/1 BEEF PATTY') & (DC_Volume['Wrin Temp Zone']=='R')]"
   ]
  },
  {
   "cell_type": "markdown",
   "metadata": {},
   "source": [
    "Find the most number of cases sent by a supplier\n",
    "\n",
    "Why is 1 item measured in KG but the gross weight in LBS. is this typo error?\n",
    "\n",
    "Check what all items goes to each DCs"
   ]
  },
  {
   "cell_type": "markdown",
   "metadata": {},
   "source": [
    "### Basic visualization"
   ]
  },
  {
   "cell_type": "code",
   "execution_count": null,
   "metadata": {},
   "outputs": [],
   "source": [
    "#Top and least suppliers for Mcdonalds\n",
    "#plt.figure()\n",
    "\n",
    "plt.figure(figsize=(50,20))\n",
    "plt.subplot(121)\n",
    "\n",
    "df = DC_Volume[['Supplier Parent Name','DC Receipts Cases Received']]\n",
    "df['Supplier Parent Name']=df['Supplier Parent Name'].replace(['COCA-COLA COMPANY (THE)/MCDONALDS ACCOUNT GROUP'],value='COCA-COLA MCD')\n",
    "df['Supplier Parent Name']=df['Supplier Parent Name'].replace(['COCA-COLA COMPANY (THE)/MOTHER PARKERS FOODS LTD'],value='COCA-COLA Mother')\n",
    "grouped = df.groupby(df['Supplier Parent Name']).sum().reset_index()\n",
    "grouped = grouped.sort_values('DC Receipts Cases Received', ascending = False)\n",
    "sns.barplot(grouped['Supplier Parent Name'][:15], grouped['DC Receipts Cases Received'][:15])\n",
    "plt.title(\"Top 15 Suppliers\",size=50)\n",
    "plt.ylabel(\"Cases Recevied by DC\",size=40)\n",
    "plt.xticks(rotation=90,size=30)\n",
    "plt.yticks(size=30)\n",
    "plt.xlabel('Supplier Name',size=50)\n",
    "\n",
    "plt.subplot(122)\n",
    "sns.barplot(grouped['Supplier Parent Name'][-15:], grouped['DC Receipts Cases Received'][-15:])\n",
    "plt.title(\"Least 15 Suppliers\",size=50)\n",
    "plt.ylabel(\"Cases Recevied by DC\",size=40)\n",
    "plt.xticks(rotation=90,size=30)\n",
    "plt.yticks(size=30)\n",
    "plt.xlabel('Supplier Name',size=50)\n",
    "plt.show()\n"
   ]
  },
  {
   "cell_type": "markdown",
   "metadata": {
    "collapsed": true
   },
   "source": [
    "# DC outbound"
   ]
  },
  {
   "cell_type": "code",
   "execution_count": null,
   "metadata": {
    "collapsed": true
   },
   "outputs": [],
   "source": [
    "df_outbound = pd.read_excel(loca_path+\"DC Sales_DC7.xlsx\")"
   ]
  },
  {
   "cell_type": "code",
   "execution_count": null,
   "metadata": {},
   "outputs": [],
   "source": [
    "df_outbound.head(1)"
   ]
  },
  {
   "cell_type": "code",
   "execution_count": null,
   "metadata": {},
   "outputs": [],
   "source": [
    "len(df_outbound['Rest ID'].unique())"
   ]
  }
 ],
 "metadata": {
  "anaconda-cloud": {},
  "kernelspec": {
   "display_name": "Python 3",
   "language": "python",
   "name": "python3"
  },
  "language_info": {
   "codemirror_mode": {
    "name": "ipython",
    "version": 3
   },
   "file_extension": ".py",
   "mimetype": "text/x-python",
   "name": "python",
   "nbconvert_exporter": "python",
   "pygments_lexer": "ipython3",
   "version": "3.5.3"
  }
 },
 "nbformat": 4,
 "nbformat_minor": 2
}
