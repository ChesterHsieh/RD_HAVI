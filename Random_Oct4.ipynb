{
 "cells": [
  {
   "cell_type": "markdown",
   "metadata": {},
   "source": [
    "# Havi Random"
   ]
  },
  {
   "cell_type": "code",
   "execution_count": 1,
   "metadata": {
    "collapsed": false
   },
   "outputs": [],
   "source": [
    "import numpy as np\n",
    "import pandas as pd\n",
    "import matplotlib.pyplot as plt\n",
    "import seaborn as sns\n",
    "import warnings\n",
    "#warnings.filterwarnings('ignore')\n",
    "%matplotlib inline  \n",
    "\n",
    "### Optimization \n",
    "from scipy.optimize import brute\n",
    "from scipy import optimize\n",
    "import scipy.optimize as opt  \n",
    "\n",
    "### Cluster \n",
    "from sklearn.mixture import GaussianMixture\n",
    "from sklearn.model_selection import StratifiedKFold\n",
    "from sklearn.naive_bayes import GaussianNB\n",
    "from mpl_toolkits.mplot3d import Axes3D\n",
    "from sklearn.cluster import KMeans\n",
    "from sklearn import datasets\n",
    "from sklearn.metrics import silhouette_samples, silhouette_score\n",
    "from sklearn.mixture import GMM\n",
    "\n",
    "### distance Cluster\n",
    "from sklearn.metrics.pairwise import euclidean_distances\n",
    "from sklearn import preprocessing\n",
    "\n",
    "\n",
    "### Outlier detection\n",
    "from sklearn import svm\n",
    "from sklearn.covariance import EllipticEnvelope\n",
    "from sklearn.ensemble import IsolationForest\n",
    "from sklearn.neighbors import LocalOutlierFactor\n",
    "\n",
    "\n",
    "## Graph\n",
    "import plotly.graph_objs as go\n",
    "from plotly import tools\n",
    "import plotly.plotly as py\n",
    "import plotly\n",
    "loca_path = './'"
   ]
  },
  {
   "cell_type": "markdown",
   "metadata": {},
   "source": [
    "### Reading the DC Volume and Items data"
   ]
  },
  {
   "cell_type": "code",
   "execution_count": 2,
   "metadata": {
    "collapsed": true
   },
   "outputs": [],
   "source": [
    "DC_Volume = pd.read_excel(loca_path+\"START HERE_DC Volumes with Case Attributes.xlsx\")\n",
    "items = pd.read_excel(loca_path+\"START HERE_DC Volumes with Case Attributes.xlsx\", sheetname=1)\n",
    "s_new_df = pd.read_csv(loca_path+\".\\HAVI_INBOUND.csv\")"
   ]
  },
  {
   "cell_type": "code",
   "execution_count": 3,
   "metadata": {
    "collapsed": false
   },
   "outputs": [],
   "source": [
    "l = DC_Volume.apply(lambda row: max(row['WW Case Length'], row['WW Case Width'], row['WW Case Height']), axis=1)\n",
    "h = DC_Volume.apply(lambda row: min(row['WW Case Length'], row['WW Case Width'], row['WW Case Height']), axis=1)\n",
    "w = DC_Volume['WW Case Length'] + DC_Volume['WW Case Width'] + DC_Volume['WW Case Height'] - l - h\n",
    "DC_Volume['WW Case Length'] = l\n",
    "DC_Volume['WW Case Width'] = w\n",
    "DC_Volume['WW Case Height'] = h"
   ]
  },
  {
   "cell_type": "code",
   "execution_count": 4,
   "metadata": {
    "collapsed": false
   },
   "outputs": [],
   "source": [
    "df_F = DC_Volume[DC_Volume['Wrin Temp Zone']=='F']"
   ]
  },
  {
   "cell_type": "code",
   "execution_count": 5,
   "metadata": {
    "collapsed": false,
    "scrolled": true
   },
   "outputs": [],
   "source": [
    "# top_15_inF = items[items.F.notnull()][items.Rank.notnull()]['Wrin Prefix'];\n",
    "# df_F = df_F[df_F['Wrin Prefix'].isin(top_15_inF)];"
   ]
  },
  {
   "cell_type": "markdown",
   "metadata": {},
   "source": [
    "# Cluster to pick the Size\n",
    "\n"
   ]
  },
  {
   "cell_type": "markdown",
   "metadata": {},
   "source": [
    "### Generate Ideal size combinitoin"
   ]
  },
  {
   "cell_type": "code",
   "execution_count": 6,
   "metadata": {
    "collapsed": true
   },
   "outputs": [],
   "source": [
    "def ls_candidate_metrix_gen(df,pallet = 'I'):\n",
    "    if pallet == 'I':# height ,weight,length for pallet\n",
    "        Hp = 100\n",
    "        Lp = 48\n",
    "        Wp = 40\n",
    "    else:\n",
    "        Hp = 100\n",
    "        Lp = 42\n",
    "        Wp = 29\n",
    "    df_des = df.describe()\n",
    "    df_des = df_des.loc[['min','max'],['WW Case Height','WW Case Length','WW Case Width']]\n",
    "    mat_min_max = np.matrix(df_des)\n",
    "    ls_h = list(range(int(Hp/mat_min_max[1,0]),int(Hp/mat_min_max[0,0])))\n",
    "    ls_l = list(range(int(Lp/mat_min_max[1,1]),int(Hp/mat_min_max[0,1])))\n",
    "    ls_w = list(range(int(Wp/mat_min_max[1,2]),int(Hp/mat_min_max[0,2])))\n",
    "    ls_h = pd.Series(ls_h)\n",
    "    ls_l = pd.Series(ls_l)\n",
    "    ls_w = pd.Series(ls_w)\n",
    "    ls_h = Hp/ls_h\n",
    "    ls_l = Lp/ls_l\n",
    "    ls_w = Wp/ls_w\n",
    "    ls_candidate = list()\n",
    "    for i in ls_h:\n",
    "        for j in ls_l:\n",
    "            for k in ls_w:\n",
    "                ls_candidate.append([i,j,k])\n",
    "    return ls_candidate"
   ]
  },
  {
   "cell_type": "code",
   "execution_count": 13,
   "metadata": {
    "collapsed": false
   },
   "outputs": [],
   "source": [
    "def cluster_distance(ls_candidate,X_train,outlier_elim = False ):\n",
    "    dist_mat = euclidean_distances(X_train,ls_candidate)\n",
    "    min_dist = np.min(dist_mat,axis=1)\n",
    "    label = np.argmin(dist_mat,axis=1)\n",
    "    k = len(np.unique(label))\n",
    "    ls_num_cluster = list()\n",
    "    le = preprocessing.LabelEncoder()\n",
    "    le.fit(np.unique(label))\n",
    "    ls_num_cluster = le.transform(label)\n",
    "    if outlier_elim:\n",
    "        X_train = pd.DataFrame.reset_index(X_train)\n",
    "        vol = X_train.apply(lambda row: row['WW Case Length']*row['WW Case Width']*row['WW Case Height'], axis=1)\n",
    "        for i in range(len(label)):\n",
    "            h,l,w = ls_candidate[label[i]]\n",
    "            if ((h*l*w)>vol[i]*1.1) or ((h*l*w)<vol[i]*0.9):\n",
    "                ls_num_cluster[i] = -1\n",
    "    return ls_num_cluster,k,le"
   ]
  },
  {
   "cell_type": "code",
   "execution_count": 60,
   "metadata": {
    "collapsed": false,
    "scrolled": false
   },
   "outputs": [],
   "source": [
    "def add_ideal_size(X_train,enconder_for_cluster,ls_candidate):\n",
    "    X_train['index_candidate'] = 0;\n",
    "    X_train['index_candidate'].loc[X_train['class'] != -1] = cluster_encode.inverse_transform(X_train['class'].loc[X_train['class'] != -1])\n",
    "    X_train['ideal_H'] = 0\n",
    "    X_train['ideal_L'] = 0\n",
    "    X_train['ideal_W'] = 0\n",
    "    for i in X_train.index:# check one by one , if the case isn't the outlier, assign new size\n",
    "        index_candi = int(X_train.loc[i,['index_candidate']])\n",
    "        if index_candi !=  -1:\n",
    "            X_train.loc[i,['ideal_H','ideal_L','ideal_W']] = ls_candidate[index_candi]\n",
    "    return X_train"
   ]
  },
  {
   "cell_type": "markdown",
   "metadata": {},
   "source": [
    "### Apply to all the case"
   ]
  },
  {
   "cell_type": "markdown",
   "metadata": {},
   "source": [
    "#### F"
   ]
  },
  {
   "cell_type": "code",
   "execution_count": 71,
   "metadata": {
    "collapsed": false
   },
   "outputs": [
    {
     "name": "stderr",
     "output_type": "stream",
     "text": [
      "C:\\Program Files\\Anaconda3\\lib\\site-packages\\pandas\\core\\indexing.py:179: SettingWithCopyWarning:\n",
      "\n",
      "\n",
      "A value is trying to be set on a copy of a slice from a DataFrame\n",
      "\n",
      "See the caveats in the documentation: http://pandas.pydata.org/pandas-docs/stable/indexing.html#indexing-view-versus-copy\n",
      "\n"
     ]
    }
   ],
   "source": [
    "df_F = DC_Volume[DC_Volume['Wrin Temp Zone']=='F']\n",
    "X_train = df_F.loc[:,['WW Case Height','WW Case Length', 'WW Case Width']]\n",
    "ls_candidate = ls_candidate_metrix_gen(X_train)\n",
    "X_train['class'],k ,cluster_encode= cluster_distance(ls_candidate,X_train,True)\n",
    "X_train = add_ideal_size(X_train,cluster_encode,ls_candidate)\n",
    "cluster_plot(X_train,k)"
   ]
  },
  {
   "cell_type": "code",
   "execution_count": 74,
   "metadata": {
    "collapsed": false
   },
   "outputs": [
    {
     "data": {
      "text/html": [
       "<div>\n",
       "<style>\n",
       "    .dataframe thead tr:only-child th {\n",
       "        text-align: right;\n",
       "    }\n",
       "\n",
       "    .dataframe thead th {\n",
       "        text-align: left;\n",
       "    }\n",
       "\n",
       "    .dataframe tbody tr th {\n",
       "        vertical-align: top;\n",
       "    }\n",
       "</style>\n",
       "<table border=\"1\" class=\"dataframe\">\n",
       "  <thead>\n",
       "    <tr style=\"text-align: right;\">\n",
       "      <th></th>\n",
       "      <th>WW Case Height</th>\n",
       "      <th>WW Case Length</th>\n",
       "      <th>WW Case Width</th>\n",
       "      <th>class</th>\n",
       "      <th>index_candidate</th>\n",
       "      <th>ideal_H</th>\n",
       "      <th>ideal_L</th>\n",
       "      <th>ideal_W</th>\n",
       "    </tr>\n",
       "  </thead>\n",
       "  <tbody>\n",
       "    <tr>\n",
       "      <th>5</th>\n",
       "      <td>8.00</td>\n",
       "      <td>19.50</td>\n",
       "      <td>12.00</td>\n",
       "      <td>-1</td>\n",
       "      <td>0</td>\n",
       "      <td>14.285714</td>\n",
       "      <td>24.0</td>\n",
       "      <td>20.0</td>\n",
       "    </tr>\n",
       "    <tr>\n",
       "      <th>6</th>\n",
       "      <td>8.12</td>\n",
       "      <td>20.25</td>\n",
       "      <td>12.00</td>\n",
       "      <td>-1</td>\n",
       "      <td>0</td>\n",
       "      <td>14.285714</td>\n",
       "      <td>24.0</td>\n",
       "      <td>20.0</td>\n",
       "    </tr>\n",
       "    <tr>\n",
       "      <th>7</th>\n",
       "      <td>8.00</td>\n",
       "      <td>19.50</td>\n",
       "      <td>12.00</td>\n",
       "      <td>-1</td>\n",
       "      <td>0</td>\n",
       "      <td>14.285714</td>\n",
       "      <td>24.0</td>\n",
       "      <td>20.0</td>\n",
       "    </tr>\n",
       "    <tr>\n",
       "      <th>8</th>\n",
       "      <td>7.81</td>\n",
       "      <td>20.50</td>\n",
       "      <td>10.13</td>\n",
       "      <td>-1</td>\n",
       "      <td>0</td>\n",
       "      <td>14.285714</td>\n",
       "      <td>24.0</td>\n",
       "      <td>20.0</td>\n",
       "    </tr>\n",
       "    <tr>\n",
       "      <th>9</th>\n",
       "      <td>8.25</td>\n",
       "      <td>20.50</td>\n",
       "      <td>10.19</td>\n",
       "      <td>-1</td>\n",
       "      <td>0</td>\n",
       "      <td>14.285714</td>\n",
       "      <td>24.0</td>\n",
       "      <td>20.0</td>\n",
       "    </tr>\n",
       "    <tr>\n",
       "      <th>10</th>\n",
       "      <td>8.25</td>\n",
       "      <td>20.50</td>\n",
       "      <td>10.19</td>\n",
       "      <td>-1</td>\n",
       "      <td>0</td>\n",
       "      <td>14.285714</td>\n",
       "      <td>24.0</td>\n",
       "      <td>20.0</td>\n",
       "    </tr>\n",
       "    <tr>\n",
       "      <th>42</th>\n",
       "      <td>9.44</td>\n",
       "      <td>13.94</td>\n",
       "      <td>11.63</td>\n",
       "      <td>-1</td>\n",
       "      <td>0</td>\n",
       "      <td>14.285714</td>\n",
       "      <td>24.0</td>\n",
       "      <td>20.0</td>\n",
       "    </tr>\n",
       "    <tr>\n",
       "      <th>43</th>\n",
       "      <td>9.44</td>\n",
       "      <td>13.94</td>\n",
       "      <td>11.63</td>\n",
       "      <td>-1</td>\n",
       "      <td>0</td>\n",
       "      <td>14.285714</td>\n",
       "      <td>24.0</td>\n",
       "      <td>20.0</td>\n",
       "    </tr>\n",
       "    <tr>\n",
       "      <th>44</th>\n",
       "      <td>9.44</td>\n",
       "      <td>13.94</td>\n",
       "      <td>11.63</td>\n",
       "      <td>-1</td>\n",
       "      <td>0</td>\n",
       "      <td>14.285714</td>\n",
       "      <td>24.0</td>\n",
       "      <td>20.0</td>\n",
       "    </tr>\n",
       "    <tr>\n",
       "      <th>144</th>\n",
       "      <td>12.19</td>\n",
       "      <td>15.25</td>\n",
       "      <td>12.75</td>\n",
       "      <td>-1</td>\n",
       "      <td>0</td>\n",
       "      <td>14.285714</td>\n",
       "      <td>24.0</td>\n",
       "      <td>20.0</td>\n",
       "    </tr>\n",
       "    <tr>\n",
       "      <th>152</th>\n",
       "      <td>7.38</td>\n",
       "      <td>19.19</td>\n",
       "      <td>10.00</td>\n",
       "      <td>-1</td>\n",
       "      <td>0</td>\n",
       "      <td>14.285714</td>\n",
       "      <td>24.0</td>\n",
       "      <td>20.0</td>\n",
       "    </tr>\n",
       "    <tr>\n",
       "      <th>154</th>\n",
       "      <td>8.00</td>\n",
       "      <td>19.50</td>\n",
       "      <td>10.25</td>\n",
       "      <td>-1</td>\n",
       "      <td>0</td>\n",
       "      <td>14.285714</td>\n",
       "      <td>24.0</td>\n",
       "      <td>20.0</td>\n",
       "    </tr>\n",
       "    <tr>\n",
       "      <th>158</th>\n",
       "      <td>9.81</td>\n",
       "      <td>14.69</td>\n",
       "      <td>10.00</td>\n",
       "      <td>-1</td>\n",
       "      <td>0</td>\n",
       "      <td>14.285714</td>\n",
       "      <td>24.0</td>\n",
       "      <td>20.0</td>\n",
       "    </tr>\n",
       "    <tr>\n",
       "      <th>198</th>\n",
       "      <td>5.94</td>\n",
       "      <td>17.22</td>\n",
       "      <td>11.60</td>\n",
       "      <td>-1</td>\n",
       "      <td>0</td>\n",
       "      <td>14.285714</td>\n",
       "      <td>24.0</td>\n",
       "      <td>20.0</td>\n",
       "    </tr>\n",
       "    <tr>\n",
       "      <th>199</th>\n",
       "      <td>5.94</td>\n",
       "      <td>17.22</td>\n",
       "      <td>11.60</td>\n",
       "      <td>-1</td>\n",
       "      <td>0</td>\n",
       "      <td>14.285714</td>\n",
       "      <td>24.0</td>\n",
       "      <td>20.0</td>\n",
       "    </tr>\n",
       "    <tr>\n",
       "      <th>200</th>\n",
       "      <td>5.94</td>\n",
       "      <td>17.22</td>\n",
       "      <td>11.60</td>\n",
       "      <td>-1</td>\n",
       "      <td>0</td>\n",
       "      <td>14.285714</td>\n",
       "      <td>24.0</td>\n",
       "      <td>20.0</td>\n",
       "    </tr>\n",
       "    <tr>\n",
       "      <th>283</th>\n",
       "      <td>8.56</td>\n",
       "      <td>19.69</td>\n",
       "      <td>13.25</td>\n",
       "      <td>-1</td>\n",
       "      <td>0</td>\n",
       "      <td>14.285714</td>\n",
       "      <td>24.0</td>\n",
       "      <td>20.0</td>\n",
       "    </tr>\n",
       "    <tr>\n",
       "      <th>284</th>\n",
       "      <td>8.25</td>\n",
       "      <td>19.69</td>\n",
       "      <td>13.38</td>\n",
       "      <td>-1</td>\n",
       "      <td>0</td>\n",
       "      <td>14.285714</td>\n",
       "      <td>24.0</td>\n",
       "      <td>20.0</td>\n",
       "    </tr>\n",
       "    <tr>\n",
       "      <th>285</th>\n",
       "      <td>8.25</td>\n",
       "      <td>19.69</td>\n",
       "      <td>13.38</td>\n",
       "      <td>-1</td>\n",
       "      <td>0</td>\n",
       "      <td>14.285714</td>\n",
       "      <td>24.0</td>\n",
       "      <td>20.0</td>\n",
       "    </tr>\n",
       "    <tr>\n",
       "      <th>286</th>\n",
       "      <td>8.50</td>\n",
       "      <td>19.88</td>\n",
       "      <td>13.25</td>\n",
       "      <td>-1</td>\n",
       "      <td>0</td>\n",
       "      <td>14.285714</td>\n",
       "      <td>24.0</td>\n",
       "      <td>20.0</td>\n",
       "    </tr>\n",
       "    <tr>\n",
       "      <th>287</th>\n",
       "      <td>9.88</td>\n",
       "      <td>17.88</td>\n",
       "      <td>13.63</td>\n",
       "      <td>-1</td>\n",
       "      <td>0</td>\n",
       "      <td>14.285714</td>\n",
       "      <td>24.0</td>\n",
       "      <td>20.0</td>\n",
       "    </tr>\n",
       "    <tr>\n",
       "      <th>318</th>\n",
       "      <td>7.50</td>\n",
       "      <td>16.00</td>\n",
       "      <td>12.00</td>\n",
       "      <td>-1</td>\n",
       "      <td>0</td>\n",
       "      <td>14.285714</td>\n",
       "      <td>24.0</td>\n",
       "      <td>20.0</td>\n",
       "    </tr>\n",
       "    <tr>\n",
       "      <th>319</th>\n",
       "      <td>7.50</td>\n",
       "      <td>16.00</td>\n",
       "      <td>12.00</td>\n",
       "      <td>-1</td>\n",
       "      <td>0</td>\n",
       "      <td>14.285714</td>\n",
       "      <td>24.0</td>\n",
       "      <td>20.0</td>\n",
       "    </tr>\n",
       "    <tr>\n",
       "      <th>320</th>\n",
       "      <td>7.50</td>\n",
       "      <td>16.00</td>\n",
       "      <td>12.00</td>\n",
       "      <td>-1</td>\n",
       "      <td>0</td>\n",
       "      <td>14.285714</td>\n",
       "      <td>24.0</td>\n",
       "      <td>20.0</td>\n",
       "    </tr>\n",
       "    <tr>\n",
       "      <th>503</th>\n",
       "      <td>10.50</td>\n",
       "      <td>19.50</td>\n",
       "      <td>13.50</td>\n",
       "      <td>-1</td>\n",
       "      <td>0</td>\n",
       "      <td>14.285714</td>\n",
       "      <td>24.0</td>\n",
       "      <td>20.0</td>\n",
       "    </tr>\n",
       "    <tr>\n",
       "      <th>504</th>\n",
       "      <td>10.50</td>\n",
       "      <td>19.50</td>\n",
       "      <td>13.50</td>\n",
       "      <td>-1</td>\n",
       "      <td>0</td>\n",
       "      <td>14.285714</td>\n",
       "      <td>24.0</td>\n",
       "      <td>20.0</td>\n",
       "    </tr>\n",
       "    <tr>\n",
       "      <th>505</th>\n",
       "      <td>10.50</td>\n",
       "      <td>19.50</td>\n",
       "      <td>13.50</td>\n",
       "      <td>-1</td>\n",
       "      <td>0</td>\n",
       "      <td>14.285714</td>\n",
       "      <td>24.0</td>\n",
       "      <td>20.0</td>\n",
       "    </tr>\n",
       "    <tr>\n",
       "      <th>506</th>\n",
       "      <td>10.50</td>\n",
       "      <td>19.50</td>\n",
       "      <td>13.50</td>\n",
       "      <td>-1</td>\n",
       "      <td>0</td>\n",
       "      <td>14.285714</td>\n",
       "      <td>24.0</td>\n",
       "      <td>20.0</td>\n",
       "    </tr>\n",
       "  </tbody>\n",
       "</table>\n",
       "</div>"
      ],
      "text/plain": [
       "     WW Case Height  WW Case Length  WW Case Width  class  index_candidate  \\\n",
       "5              8.00           19.50          12.00     -1                0   \n",
       "6              8.12           20.25          12.00     -1                0   \n",
       "7              8.00           19.50          12.00     -1                0   \n",
       "8              7.81           20.50          10.13     -1                0   \n",
       "9              8.25           20.50          10.19     -1                0   \n",
       "10             8.25           20.50          10.19     -1                0   \n",
       "42             9.44           13.94          11.63     -1                0   \n",
       "43             9.44           13.94          11.63     -1                0   \n",
       "44             9.44           13.94          11.63     -1                0   \n",
       "144           12.19           15.25          12.75     -1                0   \n",
       "152            7.38           19.19          10.00     -1                0   \n",
       "154            8.00           19.50          10.25     -1                0   \n",
       "158            9.81           14.69          10.00     -1                0   \n",
       "198            5.94           17.22          11.60     -1                0   \n",
       "199            5.94           17.22          11.60     -1                0   \n",
       "200            5.94           17.22          11.60     -1                0   \n",
       "283            8.56           19.69          13.25     -1                0   \n",
       "284            8.25           19.69          13.38     -1                0   \n",
       "285            8.25           19.69          13.38     -1                0   \n",
       "286            8.50           19.88          13.25     -1                0   \n",
       "287            9.88           17.88          13.63     -1                0   \n",
       "318            7.50           16.00          12.00     -1                0   \n",
       "319            7.50           16.00          12.00     -1                0   \n",
       "320            7.50           16.00          12.00     -1                0   \n",
       "503           10.50           19.50          13.50     -1                0   \n",
       "504           10.50           19.50          13.50     -1                0   \n",
       "505           10.50           19.50          13.50     -1                0   \n",
       "506           10.50           19.50          13.50     -1                0   \n",
       "\n",
       "       ideal_H  ideal_L  ideal_W  \n",
       "5    14.285714     24.0     20.0  \n",
       "6    14.285714     24.0     20.0  \n",
       "7    14.285714     24.0     20.0  \n",
       "8    14.285714     24.0     20.0  \n",
       "9    14.285714     24.0     20.0  \n",
       "10   14.285714     24.0     20.0  \n",
       "42   14.285714     24.0     20.0  \n",
       "43   14.285714     24.0     20.0  \n",
       "44   14.285714     24.0     20.0  \n",
       "144  14.285714     24.0     20.0  \n",
       "152  14.285714     24.0     20.0  \n",
       "154  14.285714     24.0     20.0  \n",
       "158  14.285714     24.0     20.0  \n",
       "198  14.285714     24.0     20.0  \n",
       "199  14.285714     24.0     20.0  \n",
       "200  14.285714     24.0     20.0  \n",
       "283  14.285714     24.0     20.0  \n",
       "284  14.285714     24.0     20.0  \n",
       "285  14.285714     24.0     20.0  \n",
       "286  14.285714     24.0     20.0  \n",
       "287  14.285714     24.0     20.0  \n",
       "318  14.285714     24.0     20.0  \n",
       "319  14.285714     24.0     20.0  \n",
       "320  14.285714     24.0     20.0  \n",
       "503  14.285714     24.0     20.0  \n",
       "504  14.285714     24.0     20.0  \n",
       "505  14.285714     24.0     20.0  \n",
       "506  14.285714     24.0     20.0  "
      ]
     },
     "execution_count": 74,
     "metadata": {},
     "output_type": "execute_result"
    }
   ],
   "source": [
    "X_train[X_train.index_candidate == 0]"
   ]
  },
  {
   "cell_type": "code",
   "execution_count": 68,
   "metadata": {
    "collapsed": false,
    "scrolled": false
   },
   "outputs": [
    {
     "name": "stderr",
     "output_type": "stream",
     "text": [
      "C:\\Program Files\\Anaconda3\\lib\\site-packages\\pandas\\core\\indexing.py:179: SettingWithCopyWarning:\n",
      "\n",
      "\n",
      "A value is trying to be set on a copy of a slice from a DataFrame\n",
      "\n",
      "See the caveats in the documentation: http://pandas.pydata.org/pandas-docs/stable/indexing.html#indexing-view-versus-copy\n",
      "\n"
     ]
    }
   ],
   "source": [
    "df_F = DC_Volume[DC_Volume['Wrin Temp Zone']=='F']\n",
    "X_train = df_F.loc[:,['WW Case Height','WW Case Length', 'WW Case Width']]\n",
    "ls_candidate = ls_candidate_metrix_gen(X_train)\n",
    "X_train['class'],k,cluster_encode = cluster_distance(ls_candidate,X_train,False)\n",
    "X_train = add_ideal_size(X_train,cluster_encode,ls_candidate)\n",
    "cluster_plot(X_train,k)"
   ]
  },
  {
   "cell_type": "code",
   "execution_count": 70,
   "metadata": {
    "collapsed": false
   },
   "outputs": [
    {
     "data": {
      "text/html": [
       "<div>\n",
       "<style>\n",
       "    .dataframe thead tr:only-child th {\n",
       "        text-align: right;\n",
       "    }\n",
       "\n",
       "    .dataframe thead th {\n",
       "        text-align: left;\n",
       "    }\n",
       "\n",
       "    .dataframe tbody tr th {\n",
       "        vertical-align: top;\n",
       "    }\n",
       "</style>\n",
       "<table border=\"1\" class=\"dataframe\">\n",
       "  <thead>\n",
       "    <tr style=\"text-align: right;\">\n",
       "      <th></th>\n",
       "      <th>WW Case Height</th>\n",
       "      <th>WW Case Length</th>\n",
       "      <th>WW Case Width</th>\n",
       "      <th>class</th>\n",
       "      <th>index_candidate</th>\n",
       "      <th>ideal_H</th>\n",
       "      <th>ideal_L</th>\n",
       "      <th>ideal_W</th>\n",
       "    </tr>\n",
       "  </thead>\n",
       "  <tbody>\n",
       "    <tr>\n",
       "      <th>0</th>\n",
       "      <td>13.13</td>\n",
       "      <td>16.38</td>\n",
       "      <td>13.50</td>\n",
       "      <td>0</td>\n",
       "      <td>49</td>\n",
       "      <td>12.500000</td>\n",
       "      <td>16.0</td>\n",
       "      <td>13.333333</td>\n",
       "    </tr>\n",
       "    <tr>\n",
       "      <th>1</th>\n",
       "      <td>12.38</td>\n",
       "      <td>16.00</td>\n",
       "      <td>13.00</td>\n",
       "      <td>0</td>\n",
       "      <td>49</td>\n",
       "      <td>12.500000</td>\n",
       "      <td>16.0</td>\n",
       "      <td>13.333333</td>\n",
       "    </tr>\n",
       "    <tr>\n",
       "      <th>2</th>\n",
       "      <td>12.38</td>\n",
       "      <td>16.00</td>\n",
       "      <td>13.00</td>\n",
       "      <td>0</td>\n",
       "      <td>49</td>\n",
       "      <td>12.500000</td>\n",
       "      <td>16.0</td>\n",
       "      <td>13.333333</td>\n",
       "    </tr>\n",
       "    <tr>\n",
       "      <th>3</th>\n",
       "      <td>13.00</td>\n",
       "      <td>15.88</td>\n",
       "      <td>13.75</td>\n",
       "      <td>0</td>\n",
       "      <td>49</td>\n",
       "      <td>12.500000</td>\n",
       "      <td>16.0</td>\n",
       "      <td>13.333333</td>\n",
       "    </tr>\n",
       "    <tr>\n",
       "      <th>4</th>\n",
       "      <td>12.38</td>\n",
       "      <td>16.00</td>\n",
       "      <td>13.00</td>\n",
       "      <td>0</td>\n",
       "      <td>49</td>\n",
       "      <td>12.500000</td>\n",
       "      <td>16.0</td>\n",
       "      <td>13.333333</td>\n",
       "    </tr>\n",
       "    <tr>\n",
       "      <th>5</th>\n",
       "      <td>8.00</td>\n",
       "      <td>19.50</td>\n",
       "      <td>12.00</td>\n",
       "      <td>13</td>\n",
       "      <td>249</td>\n",
       "      <td>7.692308</td>\n",
       "      <td>16.0</td>\n",
       "      <td>13.333333</td>\n",
       "    </tr>\n",
       "    <tr>\n",
       "      <th>6</th>\n",
       "      <td>8.12</td>\n",
       "      <td>20.25</td>\n",
       "      <td>12.00</td>\n",
       "      <td>8</td>\n",
       "      <td>201</td>\n",
       "      <td>8.333333</td>\n",
       "      <td>24.0</td>\n",
       "      <td>13.333333</td>\n",
       "    </tr>\n",
       "    <tr>\n",
       "      <th>7</th>\n",
       "      <td>8.00</td>\n",
       "      <td>19.50</td>\n",
       "      <td>12.00</td>\n",
       "      <td>13</td>\n",
       "      <td>249</td>\n",
       "      <td>7.692308</td>\n",
       "      <td>16.0</td>\n",
       "      <td>13.333333</td>\n",
       "    </tr>\n",
       "    <tr>\n",
       "      <th>8</th>\n",
       "      <td>7.81</td>\n",
       "      <td>20.50</td>\n",
       "      <td>10.13</td>\n",
       "      <td>12</td>\n",
       "      <td>242</td>\n",
       "      <td>7.692308</td>\n",
       "      <td>24.0</td>\n",
       "      <td>10.000000</td>\n",
       "    </tr>\n",
       "    <tr>\n",
       "      <th>9</th>\n",
       "      <td>8.25</td>\n",
       "      <td>20.50</td>\n",
       "      <td>10.19</td>\n",
       "      <td>9</td>\n",
       "      <td>202</td>\n",
       "      <td>8.333333</td>\n",
       "      <td>24.0</td>\n",
       "      <td>10.000000</td>\n",
       "    </tr>\n",
       "    <tr>\n",
       "      <th>10</th>\n",
       "      <td>8.25</td>\n",
       "      <td>20.50</td>\n",
       "      <td>10.19</td>\n",
       "      <td>9</td>\n",
       "      <td>202</td>\n",
       "      <td>8.333333</td>\n",
       "      <td>24.0</td>\n",
       "      <td>10.000000</td>\n",
       "    </tr>\n",
       "    <tr>\n",
       "      <th>13</th>\n",
       "      <td>10.63</td>\n",
       "      <td>16.06</td>\n",
       "      <td>13.31</td>\n",
       "      <td>1</td>\n",
       "      <td>89</td>\n",
       "      <td>11.111111</td>\n",
       "      <td>16.0</td>\n",
       "      <td>13.333333</td>\n",
       "    </tr>\n",
       "    <tr>\n",
       "      <th>14</th>\n",
       "      <td>10.63</td>\n",
       "      <td>16.06</td>\n",
       "      <td>13.31</td>\n",
       "      <td>1</td>\n",
       "      <td>89</td>\n",
       "      <td>11.111111</td>\n",
       "      <td>16.0</td>\n",
       "      <td>13.333333</td>\n",
       "    </tr>\n",
       "    <tr>\n",
       "      <th>15</th>\n",
       "      <td>11.25</td>\n",
       "      <td>15.50</td>\n",
       "      <td>12.75</td>\n",
       "      <td>1</td>\n",
       "      <td>89</td>\n",
       "      <td>11.111111</td>\n",
       "      <td>16.0</td>\n",
       "      <td>13.333333</td>\n",
       "    </tr>\n",
       "    <tr>\n",
       "      <th>42</th>\n",
       "      <td>9.44</td>\n",
       "      <td>13.94</td>\n",
       "      <td>11.63</td>\n",
       "      <td>7</td>\n",
       "      <td>178</td>\n",
       "      <td>9.090909</td>\n",
       "      <td>12.0</td>\n",
       "      <td>10.000000</td>\n",
       "    </tr>\n",
       "    <tr>\n",
       "      <th>43</th>\n",
       "      <td>9.44</td>\n",
       "      <td>13.94</td>\n",
       "      <td>11.63</td>\n",
       "      <td>7</td>\n",
       "      <td>178</td>\n",
       "      <td>9.090909</td>\n",
       "      <td>12.0</td>\n",
       "      <td>10.000000</td>\n",
       "    </tr>\n",
       "    <tr>\n",
       "      <th>44</th>\n",
       "      <td>9.44</td>\n",
       "      <td>13.94</td>\n",
       "      <td>11.63</td>\n",
       "      <td>7</td>\n",
       "      <td>178</td>\n",
       "      <td>9.090909</td>\n",
       "      <td>12.0</td>\n",
       "      <td>10.000000</td>\n",
       "    </tr>\n",
       "    <tr>\n",
       "      <th>68</th>\n",
       "      <td>8.49</td>\n",
       "      <td>15.76</td>\n",
       "      <td>12.88</td>\n",
       "      <td>10</td>\n",
       "      <td>209</td>\n",
       "      <td>8.333333</td>\n",
       "      <td>16.0</td>\n",
       "      <td>13.333333</td>\n",
       "    </tr>\n",
       "    <tr>\n",
       "      <th>69</th>\n",
       "      <td>8.00</td>\n",
       "      <td>15.00</td>\n",
       "      <td>13.00</td>\n",
       "      <td>13</td>\n",
       "      <td>249</td>\n",
       "      <td>7.692308</td>\n",
       "      <td>16.0</td>\n",
       "      <td>13.333333</td>\n",
       "    </tr>\n",
       "    <tr>\n",
       "      <th>70</th>\n",
       "      <td>8.25</td>\n",
       "      <td>15.88</td>\n",
       "      <td>13.00</td>\n",
       "      <td>10</td>\n",
       "      <td>209</td>\n",
       "      <td>8.333333</td>\n",
       "      <td>16.0</td>\n",
       "      <td>13.333333</td>\n",
       "    </tr>\n",
       "    <tr>\n",
       "      <th>71</th>\n",
       "      <td>8.25</td>\n",
       "      <td>15.88</td>\n",
       "      <td>13.00</td>\n",
       "      <td>10</td>\n",
       "      <td>209</td>\n",
       "      <td>8.333333</td>\n",
       "      <td>16.0</td>\n",
       "      <td>13.333333</td>\n",
       "    </tr>\n",
       "    <tr>\n",
       "      <th>72</th>\n",
       "      <td>12.25</td>\n",
       "      <td>15.75</td>\n",
       "      <td>13.06</td>\n",
       "      <td>0</td>\n",
       "      <td>49</td>\n",
       "      <td>12.500000</td>\n",
       "      <td>16.0</td>\n",
       "      <td>13.333333</td>\n",
       "    </tr>\n",
       "    <tr>\n",
       "      <th>73</th>\n",
       "      <td>12.25</td>\n",
       "      <td>15.75</td>\n",
       "      <td>13.06</td>\n",
       "      <td>0</td>\n",
       "      <td>49</td>\n",
       "      <td>12.500000</td>\n",
       "      <td>16.0</td>\n",
       "      <td>13.333333</td>\n",
       "    </tr>\n",
       "    <tr>\n",
       "      <th>74</th>\n",
       "      <td>12.25</td>\n",
       "      <td>15.75</td>\n",
       "      <td>13.06</td>\n",
       "      <td>0</td>\n",
       "      <td>49</td>\n",
       "      <td>12.500000</td>\n",
       "      <td>16.0</td>\n",
       "      <td>13.333333</td>\n",
       "    </tr>\n",
       "    <tr>\n",
       "      <th>75</th>\n",
       "      <td>11.63</td>\n",
       "      <td>15.63</td>\n",
       "      <td>12.38</td>\n",
       "      <td>1</td>\n",
       "      <td>89</td>\n",
       "      <td>11.111111</td>\n",
       "      <td>16.0</td>\n",
       "      <td>13.333333</td>\n",
       "    </tr>\n",
       "    <tr>\n",
       "      <th>143</th>\n",
       "      <td>12.81</td>\n",
       "      <td>15.63</td>\n",
       "      <td>13.13</td>\n",
       "      <td>0</td>\n",
       "      <td>49</td>\n",
       "      <td>12.500000</td>\n",
       "      <td>16.0</td>\n",
       "      <td>13.333333</td>\n",
       "    </tr>\n",
       "    <tr>\n",
       "      <th>144</th>\n",
       "      <td>12.19</td>\n",
       "      <td>15.25</td>\n",
       "      <td>12.75</td>\n",
       "      <td>0</td>\n",
       "      <td>49</td>\n",
       "      <td>12.500000</td>\n",
       "      <td>16.0</td>\n",
       "      <td>13.333333</td>\n",
       "    </tr>\n",
       "    <tr>\n",
       "      <th>145</th>\n",
       "      <td>12.81</td>\n",
       "      <td>15.63</td>\n",
       "      <td>13.13</td>\n",
       "      <td>0</td>\n",
       "      <td>49</td>\n",
       "      <td>12.500000</td>\n",
       "      <td>16.0</td>\n",
       "      <td>13.333333</td>\n",
       "    </tr>\n",
       "    <tr>\n",
       "      <th>152</th>\n",
       "      <td>7.38</td>\n",
       "      <td>19.19</td>\n",
       "      <td>10.00</td>\n",
       "      <td>16</td>\n",
       "      <td>290</td>\n",
       "      <td>7.142857</td>\n",
       "      <td>16.0</td>\n",
       "      <td>10.000000</td>\n",
       "    </tr>\n",
       "    <tr>\n",
       "      <th>153</th>\n",
       "      <td>8.50</td>\n",
       "      <td>18.25</td>\n",
       "      <td>9.25</td>\n",
       "      <td>11</td>\n",
       "      <td>210</td>\n",
       "      <td>8.333333</td>\n",
       "      <td>16.0</td>\n",
       "      <td>10.000000</td>\n",
       "    </tr>\n",
       "    <tr>\n",
       "      <th>...</th>\n",
       "      <td>...</td>\n",
       "      <td>...</td>\n",
       "      <td>...</td>\n",
       "      <td>...</td>\n",
       "      <td>...</td>\n",
       "      <td>...</td>\n",
       "      <td>...</td>\n",
       "      <td>...</td>\n",
       "    </tr>\n",
       "    <tr>\n",
       "      <th>273</th>\n",
       "      <td>12.38</td>\n",
       "      <td>15.89</td>\n",
       "      <td>13.07</td>\n",
       "      <td>0</td>\n",
       "      <td>49</td>\n",
       "      <td>12.500000</td>\n",
       "      <td>16.0</td>\n",
       "      <td>13.333333</td>\n",
       "    </tr>\n",
       "    <tr>\n",
       "      <th>274</th>\n",
       "      <td>12.31</td>\n",
       "      <td>15.69</td>\n",
       "      <td>12.94</td>\n",
       "      <td>0</td>\n",
       "      <td>49</td>\n",
       "      <td>12.500000</td>\n",
       "      <td>16.0</td>\n",
       "      <td>13.333333</td>\n",
       "    </tr>\n",
       "    <tr>\n",
       "      <th>283</th>\n",
       "      <td>8.56</td>\n",
       "      <td>19.69</td>\n",
       "      <td>13.25</td>\n",
       "      <td>10</td>\n",
       "      <td>209</td>\n",
       "      <td>8.333333</td>\n",
       "      <td>16.0</td>\n",
       "      <td>13.333333</td>\n",
       "    </tr>\n",
       "    <tr>\n",
       "      <th>284</th>\n",
       "      <td>8.25</td>\n",
       "      <td>19.69</td>\n",
       "      <td>13.38</td>\n",
       "      <td>10</td>\n",
       "      <td>209</td>\n",
       "      <td>8.333333</td>\n",
       "      <td>16.0</td>\n",
       "      <td>13.333333</td>\n",
       "    </tr>\n",
       "    <tr>\n",
       "      <th>285</th>\n",
       "      <td>8.25</td>\n",
       "      <td>19.69</td>\n",
       "      <td>13.38</td>\n",
       "      <td>10</td>\n",
       "      <td>209</td>\n",
       "      <td>8.333333</td>\n",
       "      <td>16.0</td>\n",
       "      <td>13.333333</td>\n",
       "    </tr>\n",
       "    <tr>\n",
       "      <th>286</th>\n",
       "      <td>8.50</td>\n",
       "      <td>19.88</td>\n",
       "      <td>13.25</td>\n",
       "      <td>10</td>\n",
       "      <td>209</td>\n",
       "      <td>8.333333</td>\n",
       "      <td>16.0</td>\n",
       "      <td>13.333333</td>\n",
       "    </tr>\n",
       "    <tr>\n",
       "      <th>287</th>\n",
       "      <td>9.88</td>\n",
       "      <td>17.88</td>\n",
       "      <td>13.63</td>\n",
       "      <td>3</td>\n",
       "      <td>129</td>\n",
       "      <td>10.000000</td>\n",
       "      <td>16.0</td>\n",
       "      <td>13.333333</td>\n",
       "    </tr>\n",
       "    <tr>\n",
       "      <th>288</th>\n",
       "      <td>9.44</td>\n",
       "      <td>17.31</td>\n",
       "      <td>12.50</td>\n",
       "      <td>6</td>\n",
       "      <td>169</td>\n",
       "      <td>9.090909</td>\n",
       "      <td>16.0</td>\n",
       "      <td>13.333333</td>\n",
       "    </tr>\n",
       "    <tr>\n",
       "      <th>289</th>\n",
       "      <td>9.38</td>\n",
       "      <td>17.13</td>\n",
       "      <td>13.38</td>\n",
       "      <td>6</td>\n",
       "      <td>169</td>\n",
       "      <td>9.090909</td>\n",
       "      <td>16.0</td>\n",
       "      <td>13.333333</td>\n",
       "    </tr>\n",
       "    <tr>\n",
       "      <th>296</th>\n",
       "      <td>9.00</td>\n",
       "      <td>21.00</td>\n",
       "      <td>15.00</td>\n",
       "      <td>5</td>\n",
       "      <td>161</td>\n",
       "      <td>9.090909</td>\n",
       "      <td>24.0</td>\n",
       "      <td>13.333333</td>\n",
       "    </tr>\n",
       "    <tr>\n",
       "      <th>297</th>\n",
       "      <td>9.00</td>\n",
       "      <td>21.00</td>\n",
       "      <td>15.00</td>\n",
       "      <td>5</td>\n",
       "      <td>161</td>\n",
       "      <td>9.090909</td>\n",
       "      <td>24.0</td>\n",
       "      <td>13.333333</td>\n",
       "    </tr>\n",
       "    <tr>\n",
       "      <th>298</th>\n",
       "      <td>9.00</td>\n",
       "      <td>21.00</td>\n",
       "      <td>15.00</td>\n",
       "      <td>5</td>\n",
       "      <td>161</td>\n",
       "      <td>9.090909</td>\n",
       "      <td>24.0</td>\n",
       "      <td>13.333333</td>\n",
       "    </tr>\n",
       "    <tr>\n",
       "      <th>299</th>\n",
       "      <td>7.19</td>\n",
       "      <td>20.62</td>\n",
       "      <td>15.81</td>\n",
       "      <td>15</td>\n",
       "      <td>281</td>\n",
       "      <td>7.142857</td>\n",
       "      <td>24.0</td>\n",
       "      <td>13.333333</td>\n",
       "    </tr>\n",
       "    <tr>\n",
       "      <th>304</th>\n",
       "      <td>13.00</td>\n",
       "      <td>16.00</td>\n",
       "      <td>13.75</td>\n",
       "      <td>0</td>\n",
       "      <td>49</td>\n",
       "      <td>12.500000</td>\n",
       "      <td>16.0</td>\n",
       "      <td>13.333333</td>\n",
       "    </tr>\n",
       "    <tr>\n",
       "      <th>305</th>\n",
       "      <td>13.00</td>\n",
       "      <td>16.00</td>\n",
       "      <td>13.75</td>\n",
       "      <td>0</td>\n",
       "      <td>49</td>\n",
       "      <td>12.500000</td>\n",
       "      <td>16.0</td>\n",
       "      <td>13.333333</td>\n",
       "    </tr>\n",
       "    <tr>\n",
       "      <th>306</th>\n",
       "      <td>13.00</td>\n",
       "      <td>16.00</td>\n",
       "      <td>13.75</td>\n",
       "      <td>0</td>\n",
       "      <td>49</td>\n",
       "      <td>12.500000</td>\n",
       "      <td>16.0</td>\n",
       "      <td>13.333333</td>\n",
       "    </tr>\n",
       "    <tr>\n",
       "      <th>318</th>\n",
       "      <td>7.50</td>\n",
       "      <td>16.00</td>\n",
       "      <td>12.00</td>\n",
       "      <td>13</td>\n",
       "      <td>249</td>\n",
       "      <td>7.692308</td>\n",
       "      <td>16.0</td>\n",
       "      <td>13.333333</td>\n",
       "    </tr>\n",
       "    <tr>\n",
       "      <th>319</th>\n",
       "      <td>7.50</td>\n",
       "      <td>16.00</td>\n",
       "      <td>12.00</td>\n",
       "      <td>13</td>\n",
       "      <td>249</td>\n",
       "      <td>7.692308</td>\n",
       "      <td>16.0</td>\n",
       "      <td>13.333333</td>\n",
       "    </tr>\n",
       "    <tr>\n",
       "      <th>320</th>\n",
       "      <td>7.50</td>\n",
       "      <td>16.00</td>\n",
       "      <td>12.00</td>\n",
       "      <td>13</td>\n",
       "      <td>249</td>\n",
       "      <td>7.692308</td>\n",
       "      <td>16.0</td>\n",
       "      <td>13.333333</td>\n",
       "    </tr>\n",
       "    <tr>\n",
       "      <th>381</th>\n",
       "      <td>9.40</td>\n",
       "      <td>20.65</td>\n",
       "      <td>16.00</td>\n",
       "      <td>5</td>\n",
       "      <td>161</td>\n",
       "      <td>9.090909</td>\n",
       "      <td>24.0</td>\n",
       "      <td>13.333333</td>\n",
       "    </tr>\n",
       "    <tr>\n",
       "      <th>382</th>\n",
       "      <td>9.40</td>\n",
       "      <td>20.65</td>\n",
       "      <td>16.00</td>\n",
       "      <td>5</td>\n",
       "      <td>161</td>\n",
       "      <td>9.090909</td>\n",
       "      <td>24.0</td>\n",
       "      <td>13.333333</td>\n",
       "    </tr>\n",
       "    <tr>\n",
       "      <th>383</th>\n",
       "      <td>10.00</td>\n",
       "      <td>20.65</td>\n",
       "      <td>16.00</td>\n",
       "      <td>2</td>\n",
       "      <td>121</td>\n",
       "      <td>10.000000</td>\n",
       "      <td>24.0</td>\n",
       "      <td>13.333333</td>\n",
       "    </tr>\n",
       "    <tr>\n",
       "      <th>384</th>\n",
       "      <td>9.40</td>\n",
       "      <td>20.65</td>\n",
       "      <td>16.00</td>\n",
       "      <td>5</td>\n",
       "      <td>161</td>\n",
       "      <td>9.090909</td>\n",
       "      <td>24.0</td>\n",
       "      <td>13.333333</td>\n",
       "    </tr>\n",
       "    <tr>\n",
       "      <th>503</th>\n",
       "      <td>10.50</td>\n",
       "      <td>19.50</td>\n",
       "      <td>13.50</td>\n",
       "      <td>3</td>\n",
       "      <td>129</td>\n",
       "      <td>10.000000</td>\n",
       "      <td>16.0</td>\n",
       "      <td>13.333333</td>\n",
       "    </tr>\n",
       "    <tr>\n",
       "      <th>504</th>\n",
       "      <td>10.50</td>\n",
       "      <td>19.50</td>\n",
       "      <td>13.50</td>\n",
       "      <td>3</td>\n",
       "      <td>129</td>\n",
       "      <td>10.000000</td>\n",
       "      <td>16.0</td>\n",
       "      <td>13.333333</td>\n",
       "    </tr>\n",
       "    <tr>\n",
       "      <th>505</th>\n",
       "      <td>10.50</td>\n",
       "      <td>19.50</td>\n",
       "      <td>13.50</td>\n",
       "      <td>3</td>\n",
       "      <td>129</td>\n",
       "      <td>10.000000</td>\n",
       "      <td>16.0</td>\n",
       "      <td>13.333333</td>\n",
       "    </tr>\n",
       "    <tr>\n",
       "      <th>506</th>\n",
       "      <td>10.50</td>\n",
       "      <td>19.50</td>\n",
       "      <td>13.50</td>\n",
       "      <td>3</td>\n",
       "      <td>129</td>\n",
       "      <td>10.000000</td>\n",
       "      <td>16.0</td>\n",
       "      <td>13.333333</td>\n",
       "    </tr>\n",
       "    <tr>\n",
       "      <th>573</th>\n",
       "      <td>13.00</td>\n",
       "      <td>16.00</td>\n",
       "      <td>13.25</td>\n",
       "      <td>0</td>\n",
       "      <td>49</td>\n",
       "      <td>12.500000</td>\n",
       "      <td>16.0</td>\n",
       "      <td>13.333333</td>\n",
       "    </tr>\n",
       "    <tr>\n",
       "      <th>574</th>\n",
       "      <td>13.00</td>\n",
       "      <td>16.00</td>\n",
       "      <td>13.25</td>\n",
       "      <td>0</td>\n",
       "      <td>49</td>\n",
       "      <td>12.500000</td>\n",
       "      <td>16.0</td>\n",
       "      <td>13.333333</td>\n",
       "    </tr>\n",
       "    <tr>\n",
       "      <th>575</th>\n",
       "      <td>13.00</td>\n",
       "      <td>16.00</td>\n",
       "      <td>13.25</td>\n",
       "      <td>0</td>\n",
       "      <td>49</td>\n",
       "      <td>12.500000</td>\n",
       "      <td>16.0</td>\n",
       "      <td>13.333333</td>\n",
       "    </tr>\n",
       "  </tbody>\n",
       "</table>\n",
       "<p>83 rows × 8 columns</p>\n",
       "</div>"
      ],
      "text/plain": [
       "     WW Case Height  WW Case Length  WW Case Width  class  index_candidate  \\\n",
       "0             13.13           16.38          13.50      0               49   \n",
       "1             12.38           16.00          13.00      0               49   \n",
       "2             12.38           16.00          13.00      0               49   \n",
       "3             13.00           15.88          13.75      0               49   \n",
       "4             12.38           16.00          13.00      0               49   \n",
       "5              8.00           19.50          12.00     13              249   \n",
       "6              8.12           20.25          12.00      8              201   \n",
       "7              8.00           19.50          12.00     13              249   \n",
       "8              7.81           20.50          10.13     12              242   \n",
       "9              8.25           20.50          10.19      9              202   \n",
       "10             8.25           20.50          10.19      9              202   \n",
       "13            10.63           16.06          13.31      1               89   \n",
       "14            10.63           16.06          13.31      1               89   \n",
       "15            11.25           15.50          12.75      1               89   \n",
       "42             9.44           13.94          11.63      7              178   \n",
       "43             9.44           13.94          11.63      7              178   \n",
       "44             9.44           13.94          11.63      7              178   \n",
       "68             8.49           15.76          12.88     10              209   \n",
       "69             8.00           15.00          13.00     13              249   \n",
       "70             8.25           15.88          13.00     10              209   \n",
       "71             8.25           15.88          13.00     10              209   \n",
       "72            12.25           15.75          13.06      0               49   \n",
       "73            12.25           15.75          13.06      0               49   \n",
       "74            12.25           15.75          13.06      0               49   \n",
       "75            11.63           15.63          12.38      1               89   \n",
       "143           12.81           15.63          13.13      0               49   \n",
       "144           12.19           15.25          12.75      0               49   \n",
       "145           12.81           15.63          13.13      0               49   \n",
       "152            7.38           19.19          10.00     16              290   \n",
       "153            8.50           18.25           9.25     11              210   \n",
       "..              ...             ...            ...    ...              ...   \n",
       "273           12.38           15.89          13.07      0               49   \n",
       "274           12.31           15.69          12.94      0               49   \n",
       "283            8.56           19.69          13.25     10              209   \n",
       "284            8.25           19.69          13.38     10              209   \n",
       "285            8.25           19.69          13.38     10              209   \n",
       "286            8.50           19.88          13.25     10              209   \n",
       "287            9.88           17.88          13.63      3              129   \n",
       "288            9.44           17.31          12.50      6              169   \n",
       "289            9.38           17.13          13.38      6              169   \n",
       "296            9.00           21.00          15.00      5              161   \n",
       "297            9.00           21.00          15.00      5              161   \n",
       "298            9.00           21.00          15.00      5              161   \n",
       "299            7.19           20.62          15.81     15              281   \n",
       "304           13.00           16.00          13.75      0               49   \n",
       "305           13.00           16.00          13.75      0               49   \n",
       "306           13.00           16.00          13.75      0               49   \n",
       "318            7.50           16.00          12.00     13              249   \n",
       "319            7.50           16.00          12.00     13              249   \n",
       "320            7.50           16.00          12.00     13              249   \n",
       "381            9.40           20.65          16.00      5              161   \n",
       "382            9.40           20.65          16.00      5              161   \n",
       "383           10.00           20.65          16.00      2              121   \n",
       "384            9.40           20.65          16.00      5              161   \n",
       "503           10.50           19.50          13.50      3              129   \n",
       "504           10.50           19.50          13.50      3              129   \n",
       "505           10.50           19.50          13.50      3              129   \n",
       "506           10.50           19.50          13.50      3              129   \n",
       "573           13.00           16.00          13.25      0               49   \n",
       "574           13.00           16.00          13.25      0               49   \n",
       "575           13.00           16.00          13.25      0               49   \n",
       "\n",
       "       ideal_H  ideal_L    ideal_W  \n",
       "0    12.500000     16.0  13.333333  \n",
       "1    12.500000     16.0  13.333333  \n",
       "2    12.500000     16.0  13.333333  \n",
       "3    12.500000     16.0  13.333333  \n",
       "4    12.500000     16.0  13.333333  \n",
       "5     7.692308     16.0  13.333333  \n",
       "6     8.333333     24.0  13.333333  \n",
       "7     7.692308     16.0  13.333333  \n",
       "8     7.692308     24.0  10.000000  \n",
       "9     8.333333     24.0  10.000000  \n",
       "10    8.333333     24.0  10.000000  \n",
       "13   11.111111     16.0  13.333333  \n",
       "14   11.111111     16.0  13.333333  \n",
       "15   11.111111     16.0  13.333333  \n",
       "42    9.090909     12.0  10.000000  \n",
       "43    9.090909     12.0  10.000000  \n",
       "44    9.090909     12.0  10.000000  \n",
       "68    8.333333     16.0  13.333333  \n",
       "69    7.692308     16.0  13.333333  \n",
       "70    8.333333     16.0  13.333333  \n",
       "71    8.333333     16.0  13.333333  \n",
       "72   12.500000     16.0  13.333333  \n",
       "73   12.500000     16.0  13.333333  \n",
       "74   12.500000     16.0  13.333333  \n",
       "75   11.111111     16.0  13.333333  \n",
       "143  12.500000     16.0  13.333333  \n",
       "144  12.500000     16.0  13.333333  \n",
       "145  12.500000     16.0  13.333333  \n",
       "152   7.142857     16.0  10.000000  \n",
       "153   8.333333     16.0  10.000000  \n",
       "..         ...      ...        ...  \n",
       "273  12.500000     16.0  13.333333  \n",
       "274  12.500000     16.0  13.333333  \n",
       "283   8.333333     16.0  13.333333  \n",
       "284   8.333333     16.0  13.333333  \n",
       "285   8.333333     16.0  13.333333  \n",
       "286   8.333333     16.0  13.333333  \n",
       "287  10.000000     16.0  13.333333  \n",
       "288   9.090909     16.0  13.333333  \n",
       "289   9.090909     16.0  13.333333  \n",
       "296   9.090909     24.0  13.333333  \n",
       "297   9.090909     24.0  13.333333  \n",
       "298   9.090909     24.0  13.333333  \n",
       "299   7.142857     24.0  13.333333  \n",
       "304  12.500000     16.0  13.333333  \n",
       "305  12.500000     16.0  13.333333  \n",
       "306  12.500000     16.0  13.333333  \n",
       "318   7.692308     16.0  13.333333  \n",
       "319   7.692308     16.0  13.333333  \n",
       "320   7.692308     16.0  13.333333  \n",
       "381   9.090909     24.0  13.333333  \n",
       "382   9.090909     24.0  13.333333  \n",
       "383  10.000000     24.0  13.333333  \n",
       "384   9.090909     24.0  13.333333  \n",
       "503  10.000000     16.0  13.333333  \n",
       "504  10.000000     16.0  13.333333  \n",
       "505  10.000000     16.0  13.333333  \n",
       "506  10.000000     16.0  13.333333  \n",
       "573  12.500000     16.0  13.333333  \n",
       "574  12.500000     16.0  13.333333  \n",
       "575  12.500000     16.0  13.333333  \n",
       "\n",
       "[83 rows x 8 columns]"
      ]
     },
     "execution_count": 70,
     "metadata": {},
     "output_type": "execute_result"
    }
   ],
   "source": [
    "X_train"
   ]
  },
  {
   "cell_type": "markdown",
   "metadata": {},
   "source": [
    "#### D"
   ]
  },
  {
   "cell_type": "code",
   "execution_count": 467,
   "metadata": {
    "collapsed": true
   },
   "outputs": [],
   "source": [
    "df_D = DC_Volume[DC_Volume['Wrin Temp Zone']=='D']\n",
    "X_train = df_D.loc[:,['WW Case Height','WW Case Length', 'WW Case Width']]\n",
    "ls_candidate = ls_candidate_metrix_gen(X_train)\n",
    "X_train['class'],k ,cluster_encode= cluster_distance(ls_candidate,X_train,True)\n",
    "X_train = add_ideal_size(X_train,cluster_encode,ls_candidate)\n",
    "cluster_plot(X_train,k)"
   ]
  },
  {
   "cell_type": "code",
   "execution_count": 468,
   "metadata": {
    "collapsed": true
   },
   "outputs": [],
   "source": [
    "df_D = DC_Volume[DC_Volume['Wrin Temp Zone']=='D']\n",
    "X_train = df_D.loc[:,['WW Case Height','WW Case Length', 'WW Case Width']]\n",
    "ls_candidate = ls_candidate_metrix_gen(X_train)\n",
    "X_train['class'],k,cluster_encode = cluster_distance(ls_candidate,X_train,False)\n",
    "X_train = add_ideal_size(X_train,cluster_encode,ls_candidate)\n",
    "cluster_plot(X_train,k)"
   ]
  },
  {
   "cell_type": "markdown",
   "metadata": {},
   "source": [
    "#### R"
   ]
  },
  {
   "cell_type": "code",
   "execution_count": 469,
   "metadata": {
    "collapsed": true
   },
   "outputs": [],
   "source": [
    "df_R = DC_Volume[DC_Volume['Wrin Temp Zone']=='R']\n",
    "X_train = df_R.loc[:,['WW Case Height','WW Case Length', 'WW Case Width']]\n",
    "ls_candidate = ls_candidate_metrix_gen(X_train)\n",
    "X_train['class'],k ,cluster_encode= cluster_distance(ls_candidate,X_train,True)\n",
    "X_train = add_ideal_size(X_train,cluster_encode,ls_candidate)\n",
    "cluster_plot(X_train,k)"
   ]
  },
  {
   "cell_type": "code",
   "execution_count": 67,
   "metadata": {
    "collapsed": false
   },
   "outputs": [
    {
     "name": "stderr",
     "output_type": "stream",
     "text": [
      "C:\\Program Files\\Anaconda3\\lib\\site-packages\\pandas\\core\\indexing.py:179: SettingWithCopyWarning:\n",
      "\n",
      "\n",
      "A value is trying to be set on a copy of a slice from a DataFrame\n",
      "\n",
      "See the caveats in the documentation: http://pandas.pydata.org/pandas-docs/stable/indexing.html#indexing-view-versus-copy\n",
      "\n"
     ]
    }
   ],
   "source": [
    "df_R = DC_Volume[DC_Volume['Wrin Temp Zone']=='R']\n",
    "X_train = df_R.loc[:,['WW Case Height','WW Case Length', 'WW Case Width']]\n",
    "ls_candidate = ls_candidate_metrix_gen(X_train)\n",
    "X_train['class'],k,cluster_encode = cluster_distance(ls_candidate,X_train,False)\n",
    "X_train = add_ideal_size(X_train,cluster_encode,ls_candidate)\n",
    "cluster_plot(X_train,k)"
   ]
  },
  {
   "cell_type": "markdown",
   "metadata": {},
   "source": [
    "### Crete objection function"
   ]
  },
  {
   "cell_type": "code",
   "execution_count": 12,
   "metadata": {
    "collapsed": false
   },
   "outputs": [],
   "source": [
    "def space_coef(input_size,*param):\n",
    "    in_val = space_coef_input(input_size,*param)\n",
    "    out_val  = space_coef_outbound(input_size,*param)\n",
    "    return -(in_val**2 + out_val**2)**0.5"
   ]
  },
  {
   "cell_type": "code",
   "execution_count": 13,
   "metadata": {
    "collapsed": true
   },
   "outputs": [],
   "source": [
    "##  Maximum volume efficiency\n",
    "#def space_coef(input_size,pallet ='O'):\n",
    "def space_coef_input(input_size,*param):\n",
    "    ## Define the pallet\n",
    "    height,length,width = input_size\n",
    "    pallet ='O'\n",
    "#     if params:\n",
    "#         pallet = params\n",
    "#     else:\n",
    "#         pallet = 'O'\n",
    "        \n",
    "    coef = 0\n",
    "    if pallet == 'O':# height ,weight,length for pallet\n",
    "        Hp = 100\n",
    "        Lp = 48\n",
    "        Wp = 40\n",
    "    else:\n",
    "        Hp = 100\n",
    "        Lp = 42\n",
    "        Wp = 29\n",
    "    vol_case = height*length*width\n",
    "    num_H = np.floor(Hp/height)\n",
    "    num_L = np.floor(Lp/length)\n",
    "    num_W = np.floor(Wp/width)\n",
    "    coef = num_H*num_L*num_W*(vol_case)/(Hp*Lp*Wp)\n",
    "    # since all the optimization function I can find so far is about to find minimum value, \n",
    "    # that's the most easy way to get the value right...\n",
    "    return -coef\n",
    "    "
   ]
  },
  {
   "cell_type": "code",
   "execution_count": 14,
   "metadata": {
    "collapsed": true
   },
   "outputs": [],
   "source": [
    "##  Maximum volume efficiency\n",
    "#def space_coef(input_size,pallet ='O'):\n",
    "def space_coef_outbound(input_size,*param):\n",
    "    ## Define the pallet\n",
    "    height,length,width = input_size\n",
    "    pallet ='I'\n",
    "#     if params:\n",
    "#         pallet = params\n",
    "#     else:\n",
    "#         pallet = 'O'\n",
    "        \n",
    "    coef = 0\n",
    "    if pallet == 'O':# height ,weight,length for pallet\n",
    "        Hp = 100\n",
    "        Lp = 48\n",
    "        Wp = 40\n",
    "    else:\n",
    "        Hp = 100\n",
    "        Lp = 42\n",
    "        Wp = 29\n",
    "    vol_case = height*length*width\n",
    "    num_H = np.floor(Hp/height)\n",
    "    num_L = np.floor(Lp/length)\n",
    "    num_W = np.floor(Wp/width)\n",
    "    coef = num_H*num_L*num_W*(vol_case)/(Hp*Lp*Wp)\n",
    "    # since all the optimization function I can find so far is about to find minimum value, \n",
    "    # that's the most easy way to get the value right...\n",
    "    return -coef"
   ]
  },
  {
   "cell_type": "code",
   "execution_count": 15,
   "metadata": {
    "collapsed": true
   },
   "outputs": [],
   "source": [
    "#brief create interval for the matrix, want to use 0.2 inch as an unit.\n",
    "#input mat it should be np.array, n x 3 matrix\n",
    "#input\n",
    "#Return:   2 element list, lower bound,  upeper bound\n",
    "def UpLowbound_gen(mat,limit = 'vol'):\n",
    "    pect_ = 1.1 # 10% increase or decreaase\n",
    "    unit = 1/0.2\n",
    "    if limit =='vol':\n",
    "        pect_ = pect_ ** (1. / 3)\n",
    "\n",
    "    else:\n",
    "        pect_ = pect_\n",
    "        \n",
    "    upper_mat = np.multiply(mat,pect_)\n",
    "    upper_mat = np.divide(np.floor(np.multiply(upper_mat,unit)),unit)\n",
    "    lower_mat = np.around(np.divide(mat,pect_),decimals=2)\n",
    "    lower_mat = np.divide(np.ceil(np.multiply(lower_mat,unit)),unit)\n",
    "    return lower_mat, upper_mat,np.dstack([lower_mat,upper_mat])"
   ]
  },
  {
   "cell_type": "markdown",
   "metadata": {},
   "source": [
    "### GMM model for cluster"
   ]
  },
  {
   "cell_type": "code",
   "execution_count": null,
   "metadata": {
    "collapsed": false,
    "scrolled": false
   },
   "outputs": [],
   "source": [
    "gmm = GMM(n_components=5).fit(X_train.iloc[:,:3])"
   ]
  },
  {
   "cell_type": "code",
   "execution_count": 169,
   "metadata": {
    "collapsed": false
   },
   "outputs": [
    {
     "name": "stderr",
     "output_type": "stream",
     "text": [
      "C:\\Program Files\\Anaconda3\\lib\\site-packages\\sklearn\\utils\\deprecation.py:75: DeprecationWarning:\n",
      "\n",
      "Function log_multivariate_normal_density is deprecated; The function log_multivariate_normal_density is deprecated in 0.18 and will be removed in 0.20.\n",
      "\n"
     ]
    }
   ],
   "source": [
    "labels = gmm.predict(X_train.iloc[:,:3])"
   ]
  },
  {
   "cell_type": "code",
   "execution_count": 171,
   "metadata": {
    "collapsed": false
   },
   "outputs": [],
   "source": [
    "X = X_train.iloc[:,:3]"
   ]
  },
  {
   "cell_type": "code",
   "execution_count": 174,
   "metadata": {
    "collapsed": false,
    "scrolled": true
   },
   "outputs": [
    {
     "data": {
      "image/png": "[encoded data removed]",
      "text/plain": [
       "<matplotlib.figure.Figure at 0x16c01530048>"
      ]
     },
     "metadata": {},
     "output_type": "display_data"
    }
   ],
   "source": [
    "plt.scatter(X.iloc[:, 0], X.iloc[:, 1], c=labels, s=40, cmap='viridis');"
   ]
  },
  {
   "cell_type": "markdown",
   "metadata": {},
   "source": [
    "elbow method for getting the number of clusters"
   ]
  },
  {
   "cell_type": "markdown",
   "metadata": {},
   "source": [
    "### silhouette_score for Picking Cluster number\n",
    "~~~ modified by grid search. later."
   ]
  },
  {
   "cell_type": "code",
   "execution_count": 15,
   "metadata": {
    "collapsed": false,
    "scrolled": true
   },
   "outputs": [],
   "source": [
    "def silhouette_score_cluster_num(df):\n",
    "    ls_sil = list()\n",
    "    for i in range(2,len(df)):\n",
    "        kmean_estimators  = KMeans(n_clusters=i)\n",
    "        kmean_estimators.fit(X_train)\n",
    "        labels = kmean_estimators.labels_\n",
    "        score = silhouette_score(df, labels, metric='euclidean')\n",
    "        ls_sil.append(score)\n",
    "    return np.argmax(ls_sil)+2"
   ]
  },
  {
   "cell_type": "markdown",
   "metadata": {},
   "source": [
    "### Remove outlier by one cluster SVM"
   ]
  },
  {
   "cell_type": "code",
   "execution_count": 16,
   "metadata": {
    "collapsed": true
   },
   "outputs": [],
   "source": [
    "def cluster_outlier(df):\n",
    "    n_samples = df_F.shape[0]\n",
    "    # define two outlier detection tools to be compared\n",
    "    clf = svm.OneClassSVM(nu=0.05, kernel=\"rbf\", gamma=0.1)\n",
    "    clf.fit(df)\n",
    "    ls_outlier = clf.predict(df)\n",
    "    return ls_outlier"
   ]
  },
  {
   "cell_type": "code",
   "execution_count": 18,
   "metadata": {
    "collapsed": false,
    "scrolled": false
   },
   "outputs": [],
   "source": [
    "def outlier_marker(df,k,method = 'OSVM',label = None):\n",
    "    if method =='OSVM':\n",
    "        for i in range(k):\n",
    "            ls_outlier_result = cluster_outlier(df[df['class'] == i].iloc[:,0:3])\n",
    "            ls_index = df[df['class'] == i].index\n",
    "            for j in range(len(ls_outlier_result)):\n",
    "                if ls_outlier_result[j] == -1:\n",
    "                    df.loc[ls_index[j],['class']] = -1\n",
    "        return df\n",
    "    elif method == 'distance':\n",
    "        return df\n",
    "        "
   ]
  },
  {
   "cell_type": "markdown",
   "metadata": {},
   "source": [
    "### Pick the best K from silhouette_score\n",
    "K number dcided by solhoutte number\n"
   ]
  },
  {
   "cell_type": "code",
   "execution_count": 26,
   "metadata": {
    "collapsed": false,
    "scrolled": true
   },
   "outputs": [
    {
     "data": {
      "text/plain": [
       "37"
      ]
     },
     "execution_count": 26,
     "metadata": {},
     "output_type": "execute_result"
    }
   ],
   "source": [
    "k = silhouette_score_cluster_num(X_train);k"
   ]
  },
  {
   "cell_type": "code",
   "execution_count": 31,
   "metadata": {
    "collapsed": true
   },
   "outputs": [],
   "source": [
    "kmean_estimators  = KMeans(n_clusters=10)\n",
    "kmean_estimators.fit(X_train)\n",
    "labels = kmean_estimators.labels_\n",
    "X_train['class'] = labels"
   ]
  },
  {
   "cell_type": "code",
   "execution_count": 32,
   "metadata": {
    "collapsed": false,
    "scrolled": true
   },
   "outputs": [
    {
     "ename": "ValueError",
     "evalue": "Found array with 0 sample(s) (shape=(0, 3)) while a minimum of 1 is required.",
     "output_type": "error",
     "traceback": [
      "\u001b[0;31m---------------------------------------------------------------------------\u001b[0m",
      "\u001b[0;31mValueError\u001b[0m                                Traceback (most recent call last)",
      "\u001b[0;32m<ipython-input-32-0c31828e896e>\u001b[0m in \u001b[0;36m<module>\u001b[0;34m()\u001b[0m\n\u001b[0;32m----> 1\u001b[0;31m \u001b[0mX_train\u001b[0m \u001b[1;33m=\u001b[0m \u001b[0moutlier_marker\u001b[0m\u001b[1;33m(\u001b[0m\u001b[0mX_train\u001b[0m\u001b[1;33m,\u001b[0m\u001b[0mk\u001b[0m\u001b[1;33m)\u001b[0m\u001b[1;33m;\u001b[0m\u001b[1;33m\u001b[0m\u001b[0m\n\u001b[0m",
      "\u001b[0;32m<ipython-input-18-e8a2e4298348>\u001b[0m in \u001b[0;36moutlier_marker\u001b[0;34m(df, k, method, label)\u001b[0m\n\u001b[1;32m      2\u001b[0m     \u001b[1;32mif\u001b[0m \u001b[0mmethod\u001b[0m \u001b[1;33m==\u001b[0m\u001b[1;34m'OSVM'\u001b[0m\u001b[1;33m:\u001b[0m\u001b[1;33m\u001b[0m\u001b[0m\n\u001b[1;32m      3\u001b[0m         \u001b[1;32mfor\u001b[0m \u001b[0mi\u001b[0m \u001b[1;32min\u001b[0m \u001b[0mrange\u001b[0m\u001b[1;33m(\u001b[0m\u001b[0mk\u001b[0m\u001b[1;33m)\u001b[0m\u001b[1;33m:\u001b[0m\u001b[1;33m\u001b[0m\u001b[0m\n\u001b[0;32m----> 4\u001b[0;31m             \u001b[0mls_outlier_result\u001b[0m \u001b[1;33m=\u001b[0m \u001b[0mcluster_outlier\u001b[0m\u001b[1;33m(\u001b[0m\u001b[0mdf\u001b[0m\u001b[1;33m[\u001b[0m\u001b[0mdf\u001b[0m\u001b[1;33m[\u001b[0m\u001b[1;34m'class'\u001b[0m\u001b[1;33m]\u001b[0m \u001b[1;33m==\u001b[0m \u001b[0mi\u001b[0m\u001b[1;33m]\u001b[0m\u001b[1;33m.\u001b[0m\u001b[0miloc\u001b[0m\u001b[1;33m[\u001b[0m\u001b[1;33m:\u001b[0m\u001b[1;33m,\u001b[0m\u001b[1;36m0\u001b[0m\u001b[1;33m:\u001b[0m\u001b[1;36m3\u001b[0m\u001b[1;33m]\u001b[0m\u001b[1;33m)\u001b[0m\u001b[1;33m\u001b[0m\u001b[0m\n\u001b[0m\u001b[1;32m      5\u001b[0m             \u001b[0mls_index\u001b[0m \u001b[1;33m=\u001b[0m \u001b[0mdf\u001b[0m\u001b[1;33m[\u001b[0m\u001b[0mdf\u001b[0m\u001b[1;33m[\u001b[0m\u001b[1;34m'class'\u001b[0m\u001b[1;33m]\u001b[0m \u001b[1;33m==\u001b[0m \u001b[0mi\u001b[0m\u001b[1;33m]\u001b[0m\u001b[1;33m.\u001b[0m\u001b[0mindex\u001b[0m\u001b[1;33m\u001b[0m\u001b[0m\n\u001b[1;32m      6\u001b[0m             \u001b[1;32mfor\u001b[0m \u001b[0mj\u001b[0m \u001b[1;32min\u001b[0m \u001b[0mrange\u001b[0m\u001b[1;33m(\u001b[0m\u001b[0mlen\u001b[0m\u001b[1;33m(\u001b[0m\u001b[0mls_outlier_result\u001b[0m\u001b[1;33m)\u001b[0m\u001b[1;33m)\u001b[0m\u001b[1;33m:\u001b[0m\u001b[1;33m\u001b[0m\u001b[0m\n",
      "\u001b[0;32m<ipython-input-16-1e5a0da5bde4>\u001b[0m in \u001b[0;36mcluster_outlier\u001b[0;34m(df)\u001b[0m\n\u001b[1;32m      3\u001b[0m     \u001b[1;31m# define two outlier detection tools to be compared\u001b[0m\u001b[1;33m\u001b[0m\u001b[1;33m\u001b[0m\u001b[0m\n\u001b[1;32m      4\u001b[0m     \u001b[0mclf\u001b[0m \u001b[1;33m=\u001b[0m \u001b[0msvm\u001b[0m\u001b[1;33m.\u001b[0m\u001b[0mOneClassSVM\u001b[0m\u001b[1;33m(\u001b[0m\u001b[0mnu\u001b[0m\u001b[1;33m=\u001b[0m\u001b[1;36m0.05\u001b[0m\u001b[1;33m,\u001b[0m \u001b[0mkernel\u001b[0m\u001b[1;33m=\u001b[0m\u001b[1;34m\"rbf\"\u001b[0m\u001b[1;33m,\u001b[0m \u001b[0mgamma\u001b[0m\u001b[1;33m=\u001b[0m\u001b[1;36m0.1\u001b[0m\u001b[1;33m)\u001b[0m\u001b[1;33m\u001b[0m\u001b[0m\n\u001b[0;32m----> 5\u001b[0;31m     \u001b[0mclf\u001b[0m\u001b[1;33m.\u001b[0m\u001b[0mfit\u001b[0m\u001b[1;33m(\u001b[0m\u001b[0mdf\u001b[0m\u001b[1;33m)\u001b[0m\u001b[1;33m\u001b[0m\u001b[0m\n\u001b[0m\u001b[1;32m      6\u001b[0m     \u001b[0mls_outlier\u001b[0m \u001b[1;33m=\u001b[0m \u001b[0mclf\u001b[0m\u001b[1;33m.\u001b[0m\u001b[0mpredict\u001b[0m\u001b[1;33m(\u001b[0m\u001b[0mdf\u001b[0m\u001b[1;33m)\u001b[0m\u001b[1;33m\u001b[0m\u001b[0m\n\u001b[1;32m      7\u001b[0m     \u001b[1;32mreturn\u001b[0m \u001b[0mls_outlier\u001b[0m\u001b[1;33m\u001b[0m\u001b[0m\n",
      "\u001b[0;32mC:\\Program Files\\Anaconda3\\lib\\site-packages\\sklearn\\svm\\classes.py\u001b[0m in \u001b[0;36mfit\u001b[0;34m(self, X, y, sample_weight, **params)\u001b[0m\n\u001b[1;32m   1082\u001b[0m         \"\"\"\n\u001b[1;32m   1083\u001b[0m         super(OneClassSVM, self).fit(X, np.ones(_num_samples(X)),\n\u001b[0;32m-> 1084\u001b[0;31m                                      sample_weight=sample_weight, **params)\n\u001b[0m\u001b[1;32m   1085\u001b[0m         \u001b[1;32mreturn\u001b[0m \u001b[0mself\u001b[0m\u001b[1;33m\u001b[0m\u001b[0m\n\u001b[1;32m   1086\u001b[0m \u001b[1;33m\u001b[0m\u001b[0m\n",
      "\u001b[0;32mC:\\Program Files\\Anaconda3\\lib\\site-packages\\sklearn\\svm\\base.py\u001b[0m in \u001b[0;36mfit\u001b[0;34m(self, X, y, sample_weight)\u001b[0m\n\u001b[1;32m    147\u001b[0m         \u001b[0mself\u001b[0m\u001b[1;33m.\u001b[0m\u001b[0m_sparse\u001b[0m \u001b[1;33m=\u001b[0m \u001b[0msparse\u001b[0m \u001b[1;32mand\u001b[0m \u001b[1;32mnot\u001b[0m \u001b[0mcallable\u001b[0m\u001b[1;33m(\u001b[0m\u001b[0mself\u001b[0m\u001b[1;33m.\u001b[0m\u001b[0mkernel\u001b[0m\u001b[1;33m)\u001b[0m\u001b[1;33m\u001b[0m\u001b[0m\n\u001b[1;32m    148\u001b[0m \u001b[1;33m\u001b[0m\u001b[0m\n\u001b[0;32m--> 149\u001b[0;31m         \u001b[0mX\u001b[0m\u001b[1;33m,\u001b[0m \u001b[0my\u001b[0m \u001b[1;33m=\u001b[0m \u001b[0mcheck_X_y\u001b[0m\u001b[1;33m(\u001b[0m\u001b[0mX\u001b[0m\u001b[1;33m,\u001b[0m \u001b[0my\u001b[0m\u001b[1;33m,\u001b[0m \u001b[0mdtype\u001b[0m\u001b[1;33m=\u001b[0m\u001b[0mnp\u001b[0m\u001b[1;33m.\u001b[0m\u001b[0mfloat64\u001b[0m\u001b[1;33m,\u001b[0m \u001b[0morder\u001b[0m\u001b[1;33m=\u001b[0m\u001b[1;34m'C'\u001b[0m\u001b[1;33m,\u001b[0m \u001b[0maccept_sparse\u001b[0m\u001b[1;33m=\u001b[0m\u001b[1;34m'csr'\u001b[0m\u001b[1;33m)\u001b[0m\u001b[1;33m\u001b[0m\u001b[0m\n\u001b[0m\u001b[1;32m    150\u001b[0m         \u001b[0my\u001b[0m \u001b[1;33m=\u001b[0m \u001b[0mself\u001b[0m\u001b[1;33m.\u001b[0m\u001b[0m_validate_targets\u001b[0m\u001b[1;33m(\u001b[0m\u001b[0my\u001b[0m\u001b[1;33m)\u001b[0m\u001b[1;33m\u001b[0m\u001b[0m\n\u001b[1;32m    151\u001b[0m \u001b[1;33m\u001b[0m\u001b[0m\n",
      "\u001b[0;32mC:\\Program Files\\Anaconda3\\lib\\site-packages\\sklearn\\utils\\validation.py\u001b[0m in \u001b[0;36mcheck_X_y\u001b[0;34m(X, y, accept_sparse, dtype, order, copy, force_all_finite, ensure_2d, allow_nd, multi_output, ensure_min_samples, ensure_min_features, y_numeric, warn_on_dtype, estimator)\u001b[0m\n\u001b[1;32m    540\u001b[0m     X = check_array(X, accept_sparse, dtype, order, copy, force_all_finite,\n\u001b[1;32m    541\u001b[0m                     \u001b[0mensure_2d\u001b[0m\u001b[1;33m,\u001b[0m \u001b[0mallow_nd\u001b[0m\u001b[1;33m,\u001b[0m \u001b[0mensure_min_samples\u001b[0m\u001b[1;33m,\u001b[0m\u001b[1;33m\u001b[0m\u001b[0m\n\u001b[0;32m--> 542\u001b[0;31m                     ensure_min_features, warn_on_dtype, estimator)\n\u001b[0m\u001b[1;32m    543\u001b[0m     \u001b[1;32mif\u001b[0m \u001b[0mmulti_output\u001b[0m\u001b[1;33m:\u001b[0m\u001b[1;33m\u001b[0m\u001b[0m\n\u001b[1;32m    544\u001b[0m         y = check_array(y, 'csr', force_all_finite=True, ensure_2d=False,\n",
      "\u001b[0;32mC:\\Program Files\\Anaconda3\\lib\\site-packages\\sklearn\\utils\\validation.py\u001b[0m in \u001b[0;36mcheck_array\u001b[0;34m(array, accept_sparse, dtype, order, copy, force_all_finite, ensure_2d, allow_nd, ensure_min_samples, ensure_min_features, warn_on_dtype, estimator)\u001b[0m\n\u001b[1;32m    429\u001b[0m                              \u001b[1;34m\" minimum of %d is required%s.\"\u001b[0m\u001b[1;33m\u001b[0m\u001b[0m\n\u001b[1;32m    430\u001b[0m                              % (n_samples, shape_repr, ensure_min_samples,\n\u001b[0;32m--> 431\u001b[0;31m                                 context))\n\u001b[0m\u001b[1;32m    432\u001b[0m \u001b[1;33m\u001b[0m\u001b[0m\n\u001b[1;32m    433\u001b[0m     \u001b[1;32mif\u001b[0m \u001b[0mensure_min_features\u001b[0m \u001b[1;33m>\u001b[0m \u001b[1;36m0\u001b[0m \u001b[1;32mand\u001b[0m \u001b[0marray\u001b[0m\u001b[1;33m.\u001b[0m\u001b[0mndim\u001b[0m \u001b[1;33m==\u001b[0m \u001b[1;36m2\u001b[0m\u001b[1;33m:\u001b[0m\u001b[1;33m\u001b[0m\u001b[0m\n",
      "\u001b[0;31mValueError\u001b[0m: Found array with 0 sample(s) (shape=(0, 3)) while a minimum of 1 is required."
     ]
    }
   ],
   "source": [
    "X_train = outlier_marker(X_train,k);"
   ]
  },
  {
   "cell_type": "code",
   "execution_count": 33,
   "metadata": {
    "collapsed": true
   },
   "outputs": [],
   "source": [
    "cluster_plot(X_train,k)"
   ]
  },
  {
   "cell_type": "markdown",
   "metadata": {},
   "source": [
    "### Plot 3-D graph"
   ]
  },
  {
   "cell_type": "code",
   "execution_count": 66,
   "metadata": {
    "collapsed": true
   },
   "outputs": [],
   "source": [
    "def color_gen(num):\n",
    "    ls_color =list()\n",
    "    for i in range(num):\n",
    "        ls_color.append(\"rgb({0:d},{1:d},{2:d})\".format(int(np.random.uniform(128,255,1)),int(np.random.uniform(0,255,1)),int(np.random.uniform(0,255,1))))\n",
    "    return ls_color"
   ]
  },
  {
   "cell_type": "code",
   "execution_count": 64,
   "metadata": {
    "collapsed": false,
    "scrolled": true
   },
   "outputs": [],
   "source": [
    "def cluster_plot(X_train,k):\n",
    "    data = []\n",
    "    clusters = []\n",
    "    colors = color_gen(k)\n",
    "    for i in range(k):\n",
    "        color =  colors[i]\n",
    "        dx = X_train[X_train['class'] == i].iloc[:, 0],\n",
    "        dy = X_train[X_train['class'] == i].iloc[:,  1],\n",
    "        dz = X_train[X_train['class'] == i].iloc[:,  2],\n",
    "        x = dx[0]\n",
    "        y = dy[0]\n",
    "        z = dz[0]\n",
    "        trace = go.Scatter3d(\n",
    "            x = x, y = y, z = z,   \n",
    "            mode = 'markers',\n",
    "            marker = dict( size=10, color=color, line=dict(width=0) ) )\n",
    "        data.append( trace )\n",
    "\n",
    "    color =  'rgb(0,0,0)'\n",
    "    dx = X_train[X_train['class'] == -1].iloc[:, 0],\n",
    "    dy = X_train[X_train['class'] == -1].iloc[:,  1],\n",
    "    dz = X_train[X_train['class'] == -1].iloc[:,  2],\n",
    "    x = dx[0]\n",
    "    y = dy[0]\n",
    "    z = dz[0]\n",
    "    trace = go.Scatter3d(\n",
    "        x = x, y = y, z = z,   \n",
    "        mode = 'markers',\n",
    "        marker = dict( size=10, color=color, line=dict(width=0) ) )\n",
    "    data.append( trace )\n",
    "\n",
    "\n",
    "    layout = go.Layout(\n",
    "        title='Plot Title',\n",
    "        xaxis=dict(\n",
    "            title='x Axis',\n",
    "            titlefont=dict(\n",
    "                family='Courier New, monospace',\n",
    "                size=18,\n",
    "                color='#7f7f7f'\n",
    "            )\n",
    "        ),\n",
    "        yaxis=dict(\n",
    "            title='y Axis',\n",
    "            titlefont=dict(\n",
    "                family='Courier New, monospace',\n",
    "                size=18,\n",
    "                color='#7f7f7f'\n",
    "            )\n",
    "        )\n",
    "    )\n",
    "    fig = go.Figure(data=data, layout=layout)\n",
    "    plotly.offline.plot(fig, filename='simple-3d-scatter.html')"
   ]
  },
  {
   "cell_type": "code",
   "execution_count": 299,
   "metadata": {
    "collapsed": true
   },
   "outputs": [],
   "source": [
    "X_train = s_new_df[s_new_df[\"Wrin Temp Zone\"] =='F'].iloc[:,1:4]"
   ]
  },
  {
   "cell_type": "code",
   "execution_count": 300,
   "metadata": {
    "collapsed": false
   },
   "outputs": [
    {
     "data": {
      "text/plain": [
       "5"
      ]
     },
     "execution_count": 300,
     "metadata": {},
     "output_type": "execute_result"
    }
   ],
   "source": [
    "k = silhouette_score_cluster_num(X_train);k"
   ]
  },
  {
   "cell_type": "code",
   "execution_count": 301,
   "metadata": {
    "collapsed": true
   },
   "outputs": [],
   "source": [
    "kmean_estimators  = KMeans(n_clusters=k)\n",
    "kmean_estimators.fit(X_train)\n",
    "labels = kmean_estimators.labels_\n",
    "X_train['class'] = labels"
   ]
  },
  {
   "cell_type": "code",
   "execution_count": 302,
   "metadata": {
    "collapsed": false,
    "scrolled": true
   },
   "outputs": [
    {
     "data": {
      "text/plain": [
       "array([1, 3, 0, 4, 2], dtype=int64)"
      ]
     },
     "execution_count": 302,
     "metadata": {},
     "output_type": "execute_result"
    }
   ],
   "source": [
    "X_train['class'].unique()"
   ]
  },
  {
   "cell_type": "code",
   "execution_count": 303,
   "metadata": {
    "collapsed": false,
    "scrolled": true
   },
   "outputs": [],
   "source": [
    "X_train = outlier_marker(X_train,k);"
   ]
  },
  {
   "cell_type": "code",
   "execution_count": 304,
   "metadata": {
    "collapsed": false
   },
   "outputs": [
    {
     "data": {
      "text/plain": [
       "array([ 1, -1,  0,  4,  2,  3], dtype=int64)"
      ]
     },
     "execution_count": 304,
     "metadata": {},
     "output_type": "execute_result"
    }
   ],
   "source": [
    "X_train['class'].unique()"
   ]
  },
  {
   "cell_type": "code",
   "execution_count": 305,
   "metadata": {
    "collapsed": true
   },
   "outputs": [],
   "source": [
    "cluster_plot(X_train,k)"
   ]
  },
  {
   "cell_type": "markdown",
   "metadata": {},
   "source": [
    "## Generate Case new size"
   ]
  },
  {
   "cell_type": "code",
   "execution_count": 158,
   "metadata": {
    "collapsed": false
   },
   "outputs": [],
   "source": [
    "## to get the H,L,W range. \n",
    "kmean_estimators.cluster_centers_= X_train.iloc[:,0:3] ## Put the all data into optmize\n",
    "Lmat,Umat ,ULmat = UpLowbound_gen(kmean_estimators.cluster_centers_)\n",
    "ideal_input_size = list()\n",
    "for limit in ULmat:\n",
    "    H_MinMax, L_MinMax, W_MinMax = limit\n",
    "    rranges = (slice(H_MinMax[0],H_MinMax[1], 0.2), slice(L_MinMax[0],L_MinMax[1], 0.2)\n",
    "           ,slice(W_MinMax[0],W_MinMax[1], 0.2))\n",
    "    resbrute = brute(space_coef_input, rranges, full_output=True, finish=None)\n",
    "    ideal_input_size.append(resbrute[0])## ideal size is correspond to original cluster center."
   ]
  },
  {
   "cell_type": "code",
   "execution_count": 267,
   "metadata": {
    "collapsed": true
   },
   "outputs": [],
   "source": [
    "df_R = DC_Volume[DC_Volume['Wrin Temp Zone']=='R']"
   ]
  },
  {
   "cell_type": "code",
   "execution_count": 268,
   "metadata": {
    "collapsed": true
   },
   "outputs": [],
   "source": [
    "X_train = df_R.loc[:,['WW Case Height','WW Case Length', 'WW Case Width']]"
   ]
  },
  {
   "cell_type": "code",
   "execution_count": 271,
   "metadata": {
    "collapsed": false
   },
   "outputs": [],
   "source": [
    "kmean_estimators  = KMeans(n_clusters=5)\n",
    "kmean_estimators.fit(X_train)\n",
    "labels = kmean_estimators.labels_\n",
    "X_train['class'] = labels"
   ]
  },
  {
   "cell_type": "code",
   "execution_count": 272,
   "metadata": {
    "collapsed": true
   },
   "outputs": [],
   "source": [
    "X_train = outlier_marker(X_train,5);"
   ]
  },
  {
   "cell_type": "code",
   "execution_count": 309,
   "metadata": {
    "collapsed": false
   },
   "outputs": [],
   "source": [
    "d = kmean_estimators.transform(X_train.iloc[:,:3])"
   ]
  },
  {
   "cell_type": "markdown",
   "metadata": {},
   "source": [
    "## Understanding the data"
   ]
  },
  {
   "cell_type": "markdown",
   "metadata": {},
   "source": [
    "### Mismatch of items"
   ]
  },
  {
   "cell_type": "markdown",
   "metadata": {},
   "source": [
    "In comparing the unique \"WRIN PREFIX\", the following items are missing from \"DC Volumes\" and \"Xtab-Temp Zone X WRIN\" sheets.\n",
    "1. 00042-DIET COKE SYRUP - with 152,368 cases received\n",
    "2. 00168-SPRITE DRINK SYRUP - with 142,032 cases received\n",
    "\n",
    "Both the WRIN PREFIX has temperature zone as Dry with the same Supplier \"COCA-COLA COMPANY (THE)/MCDONALDS ACCOUNT GROUP\". Adding these two tiems in the \"Xtab-Temp Zone X WRIN\" sheet will change the rank of other items."
   ]
  },
  {
   "cell_type": "code",
   "execution_count": null,
   "metadata": {
    "collapsed": false
   },
   "outputs": [],
   "source": [
    "temperature = ('F', 'R', 'D')\n",
    "for i in temperature:\n",
    "    print(\"Temp zone\", i ,\"missing:\",set(DC_Volume['Wrin Prefix'][DC_Volume['Wrin Temp Zone'] == i].unique()).symmetric_difference(set(items['Wrin Prefix'][items[i].notnull()].unique())))"
   ]
  },
  {
   "cell_type": "code",
   "execution_count": null,
   "metadata": {
    "collapsed": false
   },
   "outputs": [],
   "source": [
    "print(\"Total number of items manufactured and distributed:\",len(DC_Volume['Wrin Prefix'].unique()), \"items\")\n",
    "print(\"Number of DCs:\", DC_Volume['DC ID'].unique())\n",
    "print(\"Total number of suppliers:\",len(DC_Volume['Supplier Parent Name'].unique()))\n",
    "print(\"Freezer items:\",len(DC_Volume['Wrin Prefix'][DC_Volume['Wrin Temp Zone'] == \"F\"].unique()))\n",
    "print(\"Dry items:\",len(DC_Volume['Wrin Prefix'][DC_Volume['Wrin Temp Zone'] == \"D\"].unique()))\n",
    "print(\"Refrigerator items:\",len(DC_Volume['Wrin Prefix'][DC_Volume['Wrin Temp Zone'] == \"R\"].unique()))"
   ]
  },
  {
   "cell_type": "markdown",
   "metadata": {},
   "source": [
    "### Wrong Temperature Zone"
   ]
  },
  {
   "cell_type": "markdown",
   "metadata": {},
   "source": [
    "\"LOPEZ FOOD INC\" is the only Supplier to pack Beef patty in Temp Zone \"R\" and sent 105 cases in total. They are also responsible for sending \"Canadian Bacon/Natural juice\" in Temp Zone \"R\""
   ]
  },
  {
   "cell_type": "code",
   "execution_count": null,
   "metadata": {
    "collapsed": false
   },
   "outputs": [],
   "source": [
    "DC_Volume[(DC_Volume['Wrin Prefix']=='00006-4/1 BEEF PATTY') & (DC_Volume['Wrin Temp Zone']=='R')]"
   ]
  },
  {
   "cell_type": "markdown",
   "metadata": {},
   "source": [
    "Find the most number of cases sent by a supplier\n",
    "\n",
    "Why is 1 item measured in KG but the gross weight in LBS. is this typo error?\n",
    "\n",
    "Check what all items goes to each DCs"
   ]
  },
  {
   "cell_type": "markdown",
   "metadata": {},
   "source": [
    "### Basic visualization"
   ]
  },
  {
   "cell_type": "code",
   "execution_count": null,
   "metadata": {
    "collapsed": false
   },
   "outputs": [],
   "source": [
    "#Top and least suppliers for Mcdonalds\n",
    "#plt.figure()\n",
    "\n",
    "plt.figure(figsize=(50,20))\n",
    "plt.subplot(121)\n",
    "\n",
    "df = DC_Volume[['Supplier Parent Name','DC Receipts Cases Received']]\n",
    "df['Supplier Parent Name']=df['Supplier Parent Name'].replace(['COCA-COLA COMPANY (THE)/MCDONALDS ACCOUNT GROUP'],value='COCA-COLA MCD')\n",
    "df['Supplier Parent Name']=df['Supplier Parent Name'].replace(['COCA-COLA COMPANY (THE)/MOTHER PARKERS FOODS LTD'],value='COCA-COLA Mother')\n",
    "grouped = df.groupby(df['Supplier Parent Name']).sum().reset_index()\n",
    "grouped = grouped.sort_values('DC Receipts Cases Received', ascending = False)\n",
    "sns.barplot(grouped['Supplier Parent Name'][:15], grouped['DC Receipts Cases Received'][:15])\n",
    "plt.title(\"Top 15 Suppliers\",size=50)\n",
    "plt.ylabel(\"Cases Recevied by DC\",size=40)\n",
    "plt.xticks(rotation=90,size=30)\n",
    "plt.yticks(size=30)\n",
    "plt.xlabel('Supplier Name',size=50)\n",
    "\n",
    "plt.subplot(122)\n",
    "sns.barplot(grouped['Supplier Parent Name'][-15:], grouped['DC Receipts Cases Received'][-15:])\n",
    "plt.title(\"Least 15 Suppliers\",size=50)\n",
    "plt.ylabel(\"Cases Recevied by DC\",size=40)\n",
    "plt.xticks(rotation=90,size=30)\n",
    "plt.yticks(size=30)\n",
    "plt.xlabel('Supplier Name',size=50)\n",
    "plt.show()\n"
   ]
  },
  {
   "cell_type": "markdown",
   "metadata": {
    "collapsed": true
   },
   "source": [
    "# DC outbound"
   ]
  },
  {
   "cell_type": "code",
   "execution_count": null,
   "metadata": {
    "collapsed": true
   },
   "outputs": [],
   "source": [
    "df_outbound = pd.read_excel(loca_path+\"DC Sales_DC7.xlsx\")"
   ]
  },
  {
   "cell_type": "code",
   "execution_count": null,
   "metadata": {
    "collapsed": false
   },
   "outputs": [],
   "source": [
    "df_outbound.head(1)"
   ]
  },
  {
   "cell_type": "code",
   "execution_count": null,
   "metadata": {
    "collapsed": false
   },
   "outputs": [],
   "source": [
    "len(df_outbound['Rest ID'].unique())"
   ]
  }
 ],
 "metadata": {
  "anaconda-cloud": {},
  "kernelspec": {
   "display_name": "Python [conda root]",
   "language": "python",
   "name": "conda-root-py"
  },
  "language_info": {
   "codemirror_mode": {
    "name": "ipython",
    "version": 3
   },
   "file_extension": ".py",
   "mimetype": "text/x-python",
   "name": "python",
   "nbconvert_exporter": "python",
   "pygments_lexer": "ipython3",
   "version": "3.5.2"
  }
 },
 "nbformat": 4,
 "nbformat_minor": 2
}
