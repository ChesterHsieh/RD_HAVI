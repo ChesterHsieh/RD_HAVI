{
 "cells": [
  {
   "cell_type": "markdown",
   "metadata": {},
   "source": [
    "# Havi Random"
   ]
  },
  {
   "cell_type": "code",
   "execution_count": 57,
   "metadata": {
    "collapsed": false
   },
   "outputs": [],
   "source": [
    "import numpy as np\n",
    "import pandas as pd\n",
    "import matplotlib.pyplot as plt\n",
    "import seaborn as sns\n",
    "import warnings\n",
    "#warnings.filterwarnings('ignore')\n",
    "%matplotlib inline  \n",
    "\n",
    "### Optimization \n",
    "from scipy.optimize import brute\n",
    "from scipy import optimize\n",
    "import scipy.optimize as opt  \n",
    "\n",
    "### Cluster \n",
    "from sklearn.mixture import GaussianMixture\n",
    "from sklearn.model_selection import StratifiedKFold\n",
    "from sklearn.naive_bayes import GaussianNB\n",
    "from mpl_toolkits.mplot3d import Axes3D\n",
    "from sklearn.cluster import KMeans\n",
    "from sklearn import datasets\n",
    "from sklearn.metrics import silhouette_samples, silhouette_score\n",
    "\n",
    "\n",
    "## Graph\n",
    "import plotly.graph_objs as go\n",
    "from plotly import tools\n",
    "import plotly.plotly as py\n",
    "import plotly\n",
    "loca_path = './'"
   ]
  },
  {
   "cell_type": "code",
   "execution_count": null,
   "metadata": {
    "collapsed": true
   },
   "outputs": [],
   "source": []
  },
  {
   "cell_type": "markdown",
   "metadata": {},
   "source": [
    "### Reading the DC Volume and Items data"
   ]
  },
  {
   "cell_type": "code",
   "execution_count": 3,
   "metadata": {
    "collapsed": true
   },
   "outputs": [],
   "source": [
    "DC_Volume = pd.read_excel(loca_path+\"START HERE_DC Volumes with Case Attributes.xlsx\")\n",
    "items = pd.read_excel(loca_path+\"START HERE_DC Volumes with Case Attributes.xlsx\", sheetname=1)"
   ]
  },
  {
   "cell_type": "code",
   "execution_count": 4,
   "metadata": {
    "collapsed": false
   },
   "outputs": [
    {
     "data": {
      "text/html": [
       "<div>\n",
       "<table border=\"1\" class=\"dataframe\">\n",
       "  <thead>\n",
       "    <tr style=\"text-align: right;\">\n",
       "      <th></th>\n",
       "      <th>Wrin Prefix</th>\n",
       "      <th>D</th>\n",
       "      <th>F</th>\n",
       "      <th>R</th>\n",
       "      <th>Rank</th>\n",
       "    </tr>\n",
       "  </thead>\n",
       "  <tbody>\n",
       "    <tr>\n",
       "      <th>0</th>\n",
       "      <td>00004-FRENCH FRIES</td>\n",
       "      <td>NaN</td>\n",
       "      <td>2176482.0</td>\n",
       "      <td>NaN</td>\n",
       "      <td>1.0</td>\n",
       "    </tr>\n",
       "    <tr>\n",
       "      <th>1</th>\n",
       "      <td>00407-CHICKEN NUGGETS</td>\n",
       "      <td>NaN</td>\n",
       "      <td>757977.0</td>\n",
       "      <td>NaN</td>\n",
       "      <td>2.0</td>\n",
       "    </tr>\n",
       "    <tr>\n",
       "      <th>2</th>\n",
       "      <td>00005-10/1 BEEF PATTY</td>\n",
       "      <td>NaN</td>\n",
       "      <td>652402.0</td>\n",
       "      <td>NaN</td>\n",
       "      <td>3.0</td>\n",
       "    </tr>\n",
       "    <tr>\n",
       "      <th>3</th>\n",
       "      <td>00070-HASH BROWNS</td>\n",
       "      <td>NaN</td>\n",
       "      <td>648789.0</td>\n",
       "      <td>NaN</td>\n",
       "      <td>4.0</td>\n",
       "    </tr>\n",
       "    <tr>\n",
       "      <th>4</th>\n",
       "      <td>02813-READY MADE BISCUITS</td>\n",
       "      <td>NaN</td>\n",
       "      <td>438040.0</td>\n",
       "      <td>NaN</td>\n",
       "      <td>5.0</td>\n",
       "    </tr>\n",
       "  </tbody>\n",
       "</table>\n",
       "</div>"
      ],
      "text/plain": [
       "                 Wrin Prefix   D          F   R  Rank\n",
       "0         00004-FRENCH FRIES NaN  2176482.0 NaN   1.0\n",
       "1      00407-CHICKEN NUGGETS NaN   757977.0 NaN   2.0\n",
       "2      00005-10/1 BEEF PATTY NaN   652402.0 NaN   3.0\n",
       "3          00070-HASH BROWNS NaN   648789.0 NaN   4.0\n",
       "4  02813-READY MADE BISCUITS NaN   438040.0 NaN   5.0"
      ]
     },
     "execution_count": 4,
     "metadata": {},
     "output_type": "execute_result"
    }
   ],
   "source": [
    "items.head()"
   ]
  },
  {
   "cell_type": "code",
   "execution_count": 5,
   "metadata": {
    "collapsed": false
   },
   "outputs": [
    {
     "data": {
      "text/html": [
       "<div>\n",
       "<table border=\"1\" class=\"dataframe\">\n",
       "  <thead>\n",
       "    <tr style=\"text-align: right;\">\n",
       "      <th></th>\n",
       "      <th>Supplier Parent Name</th>\n",
       "      <th>Supplier WSI#</th>\n",
       "      <th>DC Receipts Cases Received</th>\n",
       "      <th>Wrin Prefix</th>\n",
       "      <th>Wrin Description</th>\n",
       "      <th>Wrin Temp Zone</th>\n",
       "      <th>WW Case Height</th>\n",
       "      <th>WW Case Length</th>\n",
       "      <th>WW Case Width</th>\n",
       "      <th>WW Weight UOM</th>\n",
       "      <th>WW Pallet TI x HI</th>\n",
       "      <th>WW Gross Weight (LBS)</th>\n",
       "      <th>WW Case Dimensions (inches)</th>\n",
       "      <th>DC ID</th>\n",
       "    </tr>\n",
       "  </thead>\n",
       "  <tbody>\n",
       "    <tr>\n",
       "      <th>0</th>\n",
       "      <td>MCCAIN FOODS</td>\n",
       "      <td>47883</td>\n",
       "      <td>728707</td>\n",
       "      <td>00004-FRENCH FRIES</td>\n",
       "      <td>00004849-FRIES/440 NATURAL F16/6</td>\n",
       "      <td>F</td>\n",
       "      <td>13.5</td>\n",
       "      <td>16.38</td>\n",
       "      <td>13.13</td>\n",
       "      <td>LB</td>\n",
       "      <td>9.00 x 6.00</td>\n",
       "      <td>38.0</td>\n",
       "      <td>16.38 x 13.13 x 13.50</td>\n",
       "      <td>7</td>\n",
       "    </tr>\n",
       "  </tbody>\n",
       "</table>\n",
       "</div>"
      ],
      "text/plain": [
       "  Supplier Parent Name  Supplier WSI#  DC Receipts Cases Received  \\\n",
       "0         MCCAIN FOODS          47883                      728707   \n",
       "\n",
       "          Wrin Prefix                  Wrin Description Wrin Temp Zone  \\\n",
       "0  00004-FRENCH FRIES  00004849-FRIES/440 NATURAL F16/6              F   \n",
       "\n",
       "   WW Case Height  WW Case Length  WW Case Width WW Weight UOM  \\\n",
       "0            13.5           16.38          13.13            LB   \n",
       "\n",
       "  WW Pallet TI x HI  WW Gross Weight (LBS) WW Case Dimensions (inches)  DC ID  \n",
       "0       9.00 x 6.00                   38.0       16.38 x 13.13 x 13.50      7  "
      ]
     },
     "execution_count": 5,
     "metadata": {},
     "output_type": "execute_result"
    }
   ],
   "source": [
    "DC_Volume.head(1)\n"
   ]
  },
  {
   "cell_type": "code",
   "execution_count": 6,
   "metadata": {
    "collapsed": false,
    "scrolled": true
   },
   "outputs": [
    {
     "data": {
      "text/plain": [
       "Index(['Supplier Parent Name', 'Supplier WSI#', 'DC Receipts Cases Received',\n",
       "       'Wrin Prefix', 'Wrin Description', 'Wrin Temp Zone', 'WW Case Height',\n",
       "       'WW Case Length', 'WW Case Width', 'WW Weight UOM', 'WW Pallet TI x HI',\n",
       "       'WW Gross Weight (LBS)', 'WW Case Dimensions (inches)', 'DC ID'],\n",
       "      dtype='object')"
      ]
     },
     "execution_count": 6,
     "metadata": {},
     "output_type": "execute_result"
    }
   ],
   "source": [
    "DC_Volume.columns"
   ]
  },
  {
   "cell_type": "code",
   "execution_count": 189,
   "metadata": {
    "collapsed": false
   },
   "outputs": [],
   "source": [
    "df_F = DC_Volume[DC_Volume['Wrin Temp Zone']=='F']"
   ]
  },
  {
   "cell_type": "code",
   "execution_count": 223,
   "metadata": {
    "collapsed": false,
    "scrolled": true
   },
   "outputs": [
    {
     "name": "stderr",
     "output_type": "stream",
     "text": [
      "C:\\Program Files\\Anaconda3\\lib\\site-packages\\ipykernel\\__main__.py:1: UserWarning:\n",
      "\n",
      "Boolean Series key will be reindexed to match DataFrame index.\n",
      "\n"
     ]
    }
   ],
   "source": [
    "top_15_inF = items[items.F.notnull()][items.Rank.notnull()]['Wrin Prefix'];\n",
    "df_F = df_F[df_F['Wrin Prefix'].isin(top_15_inF)];"
   ]
  },
  {
   "cell_type": "code",
   "execution_count": 224,
   "metadata": {
    "collapsed": true
   },
   "outputs": [],
   "source": [
    "df_F = DC_Volume[DC_Volume['Wrin Temp Zone']=='F']"
   ]
  },
  {
   "cell_type": "markdown",
   "metadata": {},
   "source": [
    "# Cluster to pick the Size\n",
    "\n"
   ]
  },
  {
   "cell_type": "code",
   "execution_count": 50,
   "metadata": {
    "collapsed": false
   },
   "outputs": [],
   "source": [
    "def space_coef(input_size,*param):\n",
    "    in_val = space_coef_input(input_size,*param)\n",
    "    out_val  = space_coef_outbound(input_size,*param)\n",
    "    return -(in_val**2 + out_val**2)**0.5"
   ]
  },
  {
   "cell_type": "code",
   "execution_count": 51,
   "metadata": {
    "collapsed": true
   },
   "outputs": [],
   "source": [
    "##  Maximum volume efficiency\n",
    "#def space_coef(input_size,pallet ='O'):\n",
    "def space_coef_input(input_size,*param):\n",
    "    ## Define the pallet\n",
    "    height,length,width = input_size\n",
    "    pallet ='O'\n",
    "#     if params:\n",
    "#         pallet = params\n",
    "#     else:\n",
    "#         pallet = 'O'\n",
    "        \n",
    "    coef = 0\n",
    "    if pallet == 'O':# height ,weight,length for pallet\n",
    "        Hp = 100\n",
    "        Lp = 48\n",
    "        Wp = 40\n",
    "    else:\n",
    "        Hp = 100\n",
    "        Lp = 42\n",
    "        Wp = 29\n",
    "    vol_case = height*length*width\n",
    "    num_H = np.floor(Hp/height)\n",
    "    num_L = np.floor(Lp/length)\n",
    "    num_W = np.floor(Wp/width)\n",
    "    coef = num_H*num_L*num_W*(vol_case)/(Hp*Lp*Wp)\n",
    "    # since all the optimization function I can find so far is about to find minimum value, \n",
    "    # that's the most easy way to get the value right...\n",
    "    return -coef\n",
    "    "
   ]
  },
  {
   "cell_type": "code",
   "execution_count": 52,
   "metadata": {
    "collapsed": true
   },
   "outputs": [],
   "source": [
    "##  Maximum volume efficiency\n",
    "#def space_coef(input_size,pallet ='O'):\n",
    "def space_coef_outbound(input_size,*param):\n",
    "    ## Define the pallet\n",
    "    height,length,width = input_size\n",
    "    pallet ='I'\n",
    "#     if params:\n",
    "#         pallet = params\n",
    "#     else:\n",
    "#         pallet = 'O'\n",
    "        \n",
    "    coef = 0\n",
    "    if pallet == 'O':# height ,weight,length for pallet\n",
    "        Hp = 100\n",
    "        Lp = 48\n",
    "        Wp = 40\n",
    "    else:\n",
    "        Hp = 100\n",
    "        Lp = 42\n",
    "        Wp = 29\n",
    "    vol_case = height*length*width\n",
    "    num_H = np.floor(Hp/height)\n",
    "    num_L = np.floor(Lp/length)\n",
    "    num_W = np.floor(Wp/width)\n",
    "    coef = num_H*num_L*num_W*(vol_case)/(Hp*Lp*Wp)\n",
    "    # since all the optimization function I can find so far is about to find minimum value, \n",
    "    # that's the most easy way to get the value right...\n",
    "    return -coef"
   ]
  },
  {
   "cell_type": "code",
   "execution_count": 53,
   "metadata": {
    "collapsed": true
   },
   "outputs": [],
   "source": [
    "#brief create interval for the matrix, want to use 0.2 inch as an unit.\n",
    "#input mat it should be np.array, n x 3 matrix\n",
    "#input\n",
    "#Return:   2 element list, lower bound,  upeper bound\n",
    "def UpLowbound_gen(mat,limit = 'vol'):\n",
    "    pect_ = 1.1 # 10% increase or decreaase\n",
    "    unit = 1/0.2\n",
    "    if limit =='vol':\n",
    "        pect_ = pect_ ** (1. / 3)\n",
    "\n",
    "    else:\n",
    "        pect_ = pect_\n",
    "        \n",
    "    upper_mat = np.multiply(mat,pect_)\n",
    "    upper_mat = np.divide(np.floor(np.multiply(upper_mat,unit)),unit)\n",
    "    lower_mat = np.around(np.divide(mat,pect_),decimals=2)\n",
    "    lower_mat = np.divide(np.ceil(np.multiply(lower_mat,unit)),unit)\n",
    "    return lower_mat, upper_mat,np.dstack([lower_mat,upper_mat])"
   ]
  },
  {
   "cell_type": "markdown",
   "metadata": {},
   "source": [
    "### Kmeans Cluster  Create"
   ]
  },
  {
   "cell_type": "markdown",
   "metadata": {},
   "source": [
    "(Not yet done)New Idea to eliminate outlier\n",
    "-Using  Guassian Mixture clsuter\n",
    "=> K-means to get new cluster"
   ]
  },
  {
   "cell_type": "code",
   "execution_count": 147,
   "metadata": {
    "collapsed": false
   },
   "outputs": [],
   "source": [
    "X_train = df_F.loc[:,['WW Case Height','WW Case Length', 'WW Case Width']]"
   ]
  },
  {
   "cell_type": "code",
   "execution_count": 14,
   "metadata": {
    "collapsed": false
   },
   "outputs": [],
   "source": [
    "kmean_estimators  = KMeans(n_clusters=8)\n",
    "kmean_estimators.fit(X_train)\n",
    "labels = kmean_estimators.labels_"
   ]
  },
  {
   "cell_type": "markdown",
   "metadata": {},
   "source": [
    "elbow method for getting the number of clusters"
   ]
  },
  {
   "cell_type": "markdown",
   "metadata": {},
   "source": [
    "### silhouette_score from 5 to 15\n",
    "~~~ modified by grid search. later."
   ]
  },
  {
   "cell_type": "code",
   "execution_count": 151,
   "metadata": {
    "collapsed": true
   },
   "outputs": [],
   "source": [
    "kmean_estimators  = KMeans(n_clusters=33)\n",
    "kmean_estimators.fit(X_train)\n",
    "labels = kmean_estimators.labels_\n",
    "score = silhouette_score(X_train, labels, metric='euclidean')"
   ]
  },
  {
   "cell_type": "code",
   "execution_count": 150,
   "metadata": {
    "collapsed": false,
    "scrolled": true
   },
   "outputs": [
    {
     "name": "stdout",
     "output_type": "stream",
     "text": [
      "0.614259563694\n",
      "0.623763152903\n",
      "0.644270381707\n",
      "0.561698363615\n",
      "0.577124367936\n",
      "0.591542554669\n",
      "0.57137105004\n",
      "0.595512858078\n",
      "0.605628758812\n",
      "0.620417015502\n",
      "0.643740902713\n",
      "0.661535752975\n",
      "0.659149884382\n",
      "0.665375105785\n",
      "0.650084727658\n",
      "0.686848776747\n",
      "0.679601256236\n",
      "0.679626798765\n",
      "0.68367175304\n",
      "0.692304151571\n",
      "0.679909085097\n",
      "0.688541483628\n",
      "0.710388135467\n",
      "0.707700419742\n",
      "0.69620174333\n",
      "0.695498735313\n",
      "0.698185257036\n",
      "0.696557943668\n",
      "0.709308357668\n",
      "0.707661996236\n",
      "0.70242448605\n",
      "0.7076564656\n",
      "0.692656940564\n",
      "0.688385773619\n",
      "0.697809896648\n",
      "0.687918423137\n",
      "0.6915955792\n",
      "0.698795063106\n",
      "0.698795063106\n",
      "0.698795063106\n",
      "0.698795063106\n",
      "0.698795063106\n",
      "0.698795063106\n",
      "0.698795063106\n",
      "0.698795063106\n",
      "0.698795063106\n",
      "0.698795063106\n",
      "0.698795063106\n",
      "0.698795063106\n",
      "0.698795063106\n"
     ]
    }
   ],
   "source": [
    "for i in range(10,60):\n",
    "    kmean_estimators  = KMeans(n_clusters=i)\n",
    "    kmean_estimators.fit(X_train)\n",
    "    labels = kmean_estimators.labels_\n",
    "    score = silhouette_score(X_train, labels, metric='euclidean')\n",
    "    ls_sil.append(score)\n",
    "    print(score)"
   ]
  },
  {
   "cell_type": "markdown",
   "metadata": {},
   "source": [
    "### Generate Case size bound"
   ]
  },
  {
   "cell_type": "code",
   "execution_count": 226,
   "metadata": {
    "collapsed": false
   },
   "outputs": [],
   "source": [
    "## to get the H,L,W range. \n",
    "kmean_estimators.cluster_centers_= X_train.iloc[:,0:3] ## Put the all data into optmize\n",
    "Lmat,Umat ,ULmat = UpLowbound_gen(kmean_estimators.cluster_centers_)\n",
    "ideal_input_size = list()\n",
    "for limit in ULmat:\n",
    "    H_MinMax, L_MinMax, W_MinMax = limit\n",
    "    rranges = (slice(H_MinMax[0],H_MinMax[1], 0.2), slice(L_MinMax[0],L_MinMax[1], 0.2)\n",
    "           ,slice(W_MinMax[0],W_MinMax[1], 0.2))\n",
    "    resbrute = brute(space_coef_input, rranges, full_output=True, finish=None)\n",
    "    ideal_input_size.append(resbrute[0])## ideal size is correspond to original cluster center."
   ]
  },
  {
   "cell_type": "code",
   "execution_count": 227,
   "metadata": {
    "collapsed": false
   },
   "outputs": [],
   "source": [
    "## to get the H,L,W range. \n",
    "Lmat,Umat ,ULmat = UpLowbound_gen(kmean_estimators.cluster_centers_)\n",
    "ideal_size = list()\n",
    "for limit in ULmat:\n",
    "    H_MinMax, L_MinMax, W_MinMax = limit\n",
    "    rranges = (slice(H_MinMax[0],H_MinMax[1], 0.2), slice(L_MinMax[0],L_MinMax[1], 0.2)\n",
    "           ,slice(W_MinMax[0],W_MinMax[1], 0.2))\n",
    "    resbrute = brute(space_coef, rranges, full_output=True, finish=None)\n",
    "    ideal_size.append(resbrute[0])## ideal size is correspond to original cluster center."
   ]
  },
  {
   "cell_type": "code",
   "execution_count": 187,
   "metadata": {
    "collapsed": false
   },
   "outputs": [],
   "source": [
    "#Compute difference Optimization result from two differnent Object function\n",
    "diff_counter = 0;\n",
    "for i in range(len(in_size)):\n",
    "    if any(ideal_input_size[i] != ideal_size[i]):\n",
    "        diff_counter+=1"
   ]
  },
  {
   "cell_type": "markdown",
   "metadata": {},
   "source": [
    "### Pick the best K from silhouette_score\n",
    "\n",
    "k = "
   ]
  },
  {
   "cell_type": "code",
   "execution_count": 217,
   "metadata": {
    "collapsed": true
   },
   "outputs": [],
   "source": [
    "k = 9\n",
    "kmean_estimators  = KMeans(n_clusters=k)\n",
    "kmean_estimators.fit(X_train)\n",
    "labels = kmean_estimators.labels_"
   ]
  },
  {
   "cell_type": "code",
   "execution_count": 218,
   "metadata": {
    "collapsed": true
   },
   "outputs": [],
   "source": [
    "X_train['class'] = labels"
   ]
  },
  {
   "cell_type": "markdown",
   "metadata": {},
   "source": [
    "### Plot 3-D graph"
   ]
  },
  {
   "cell_type": "code",
   "execution_count": null,
   "metadata": {
    "collapsed": true
   },
   "outputs": [],
   "source": [
    "def color_gen(num):\n",
    "    ls_color =list()\n",
    "    for i in range(num):\n",
    "        ls_color.append(\"rgb({0:d},{1:d},{2:d})\".format(int(np.random.uniform(128,255,1)),int(np.random.uniform(0,255,1)),int(np.random.uniform(0,255,1))))\n",
    "    return ls_color"
   ]
  },
  {
   "cell_type": "code",
   "execution_count": 220,
   "metadata": {
    "collapsed": false
   },
   "outputs": [
    {
     "name": "stdout",
     "output_type": "stream",
     "text": [
      "68     8.49\n",
      "69     8.00\n",
      "70     8.25\n",
      "71     8.25\n",
      "248    9.00\n",
      "249    9.41\n",
      "318    7.50\n",
      "319    7.50\n",
      "320    7.50\n",
      "Name: WW Case Height, dtype: float64\n",
      "0      13.50\n",
      "1      12.38\n",
      "2      12.38\n",
      "3      13.75\n",
      "4      12.38\n",
      "72     12.25\n",
      "73     12.25\n",
      "74     12.25\n",
      "75     12.38\n",
      "143    12.81\n",
      "144    12.19\n",
      "145    12.81\n",
      "201    12.50\n",
      "202    13.81\n",
      "203    13.81\n",
      "204    13.81\n",
      "215    12.94\n",
      "227    12.82\n",
      "228    12.82\n",
      "229    12.82\n",
      "272    12.38\n",
      "273    12.38\n",
      "274    15.69\n",
      "304    13.00\n",
      "305    13.00\n",
      "306    13.00\n",
      "573    13.00\n",
      "574    13.00\n",
      "575    13.00\n",
      "Name: WW Case Height, dtype: float64\n",
      "257    10.00\n",
      "258    10.00\n",
      "259    10.00\n",
      "296     9.00\n",
      "297     9.00\n",
      "298     9.00\n",
      "299     7.19\n",
      "381     9.40\n",
      "382     9.40\n",
      "383    10.00\n",
      "384     9.40\n",
      "Name: WW Case Height, dtype: float64\n",
      "8      7.81\n",
      "9      8.25\n",
      "10     8.25\n",
      "152    7.38\n",
      "153    8.50\n",
      "154    8.00\n",
      "Name: WW Case Height, dtype: float64\n",
      "287    13.63\n",
      "288    12.50\n",
      "289    13.38\n",
      "Name: WW Case Height, dtype: float64\n",
      "13     10.63\n",
      "14     10.63\n",
      "15     11.25\n",
      "246    11.13\n",
      "247    11.13\n",
      "Name: WW Case Height, dtype: float64\n",
      "42     11.63\n",
      "43     11.63\n",
      "44     11.63\n",
      "158    10.00\n",
      "159     9.88\n",
      "160     9.88\n",
      "Name: WW Case Height, dtype: float64\n",
      "198    5.94\n",
      "199    5.94\n",
      "200    5.94\n",
      "Name: WW Case Height, dtype: float64\n",
      "5       8.00\n",
      "6       8.12\n",
      "7       8.00\n",
      "283     8.56\n",
      "284     8.25\n",
      "285     8.25\n",
      "286     8.50\n",
      "503    10.50\n",
      "504    10.50\n",
      "505    10.50\n",
      "506    10.50\n",
      "Name: WW Case Height, dtype: float64\n"
     ]
    },
    {
     "data": {
      "text/plain": [
       "'file://C:\\\\Users\\\\csblo\\\\Documents\\\\Math565\\\\HAVI\\\\RD_HAVI\\\\simple-3d-scatter.html'"
      ]
     },
     "execution_count": 220,
     "metadata": {},
     "output_type": "execute_result"
    }
   ],
   "source": [
    "data = []\n",
    "clusters = []\n",
    "colors = color_gen(k)\n",
    "for i in range(k):\n",
    "    color =  colors[i]\n",
    "    dx = X_train[X_train['class'] == i].iloc[:, 0],\n",
    "    dy = X_train[X_train['class'] == i].iloc[:,  1],\n",
    "    dz = X_train[X_train['class'] == i].iloc[:,  2],\n",
    "    x = dx[0]\n",
    "    y = dy[0]\n",
    "    z = dz[0]\n",
    "    print(x)\n",
    "    trace = go.Scatter3d(\n",
    "        x = x, y = y, z = z,   \n",
    "        mode = 'markers',\n",
    "        marker = dict( size=10, color=color, line=dict(width=0) ) )\n",
    "    data.append( trace )\n",
    "    \n",
    "#     cluster = dict(\n",
    "#         color = color,\n",
    "#         opacity = 0.3,\n",
    "#         type = \"mesh3d\",    \n",
    "#         x = x, y = y, z = z )\n",
    "#     data.append( cluster )\n",
    "\n",
    "\n",
    "layout = go.Layout(\n",
    "    title='Plot Title',\n",
    "    xaxis=dict(\n",
    "        title='x Axis',\n",
    "        titlefont=dict(\n",
    "            family='Courier New, monospace',\n",
    "            size=18,\n",
    "            color='#7f7f7f'\n",
    "        )\n",
    "    ),\n",
    "    yaxis=dict(\n",
    "        title='y Axis',\n",
    "        titlefont=dict(\n",
    "            family='Courier New, monospace',\n",
    "            size=18,\n",
    "            color='#7f7f7f'\n",
    "        )\n",
    "    )\n",
    ")\n",
    "fig = go.Figure(data=data, layout=layout)\n",
    "plotly.offline.plot(fig, filename='simple-3d-scatter.html')"
   ]
  },
  {
   "cell_type": "code",
   "execution_count": 211,
   "metadata": {
    "collapsed": false
   },
   "outputs": [
    {
     "name": "stdout",
     "output_type": "stream",
     "text": [
      "5       8.00\n",
      "7       8.00\n",
      "8       7.81\n",
      "9       8.25\n",
      "10      8.25\n",
      "68      8.49\n",
      "69      8.00\n",
      "70      8.25\n",
      "71      8.25\n",
      "152     7.38\n",
      "153     8.50\n",
      "154     8.00\n",
      "158    10.00\n",
      "159     9.88\n",
      "160     9.88\n",
      "198     5.94\n",
      "199     5.94\n",
      "200     5.94\n",
      "248     9.00\n",
      "249     9.41\n",
      "318     7.50\n",
      "319     7.50\n",
      "320     7.50\n",
      "Name: WW Case Height, dtype: float64\n"
     ]
    }
   ],
   "source": [
    "print(x[0])"
   ]
  },
  {
   "cell_type": "markdown",
   "metadata": {},
   "source": [
    "## Understanding the data"
   ]
  },
  {
   "cell_type": "markdown",
   "metadata": {},
   "source": [
    "### Mismatch of items"
   ]
  },
  {
   "cell_type": "markdown",
   "metadata": {},
   "source": [
    "In comparing the unique \"WRIN PREFIX\", the following items are missing from \"DC Volumes\" and \"Xtab-Temp Zone X WRIN\" sheets.\n",
    "1. 00042-DIET COKE SYRUP - with 152,368 cases received\n",
    "2. 00168-SPRITE DRINK SYRUP - with 142,032 cases received\n",
    "\n",
    "Both the WRIN PREFIX has temperature zone as Dry with the same Supplier \"COCA-COLA COMPANY (THE)/MCDONALDS ACCOUNT GROUP\". Adding these two tiems in the \"Xtab-Temp Zone X WRIN\" sheet will change the rank of other items."
   ]
  },
  {
   "cell_type": "code",
   "execution_count": null,
   "metadata": {
    "collapsed": false
   },
   "outputs": [],
   "source": [
    "temperature = ('F', 'R', 'D')\n",
    "for i in temperature:\n",
    "    print(\"Temp zone\", i ,\"missing:\",set(DC_Volume['Wrin Prefix'][DC_Volume['Wrin Temp Zone'] == i].unique()).symmetric_difference(set(items['Wrin Prefix'][items[i].notnull()].unique())))"
   ]
  },
  {
   "cell_type": "code",
   "execution_count": null,
   "metadata": {
    "collapsed": false
   },
   "outputs": [],
   "source": [
    "print(\"Total number of items manufactured and distributed:\",len(DC_Volume['Wrin Prefix'].unique()), \"items\")\n",
    "print(\"Number of DCs:\", DC_Volume['DC ID'].unique())\n",
    "print(\"Total number of suppliers:\",len(DC_Volume['Supplier Parent Name'].unique()))\n",
    "print(\"Freezer items:\",len(DC_Volume['Wrin Prefix'][DC_Volume['Wrin Temp Zone'] == \"F\"].unique()))\n",
    "print(\"Dry items:\",len(DC_Volume['Wrin Prefix'][DC_Volume['Wrin Temp Zone'] == \"D\"].unique()))\n",
    "print(\"Refrigerator items:\",len(DC_Volume['Wrin Prefix'][DC_Volume['Wrin Temp Zone'] == \"R\"].unique()))"
   ]
  },
  {
   "cell_type": "markdown",
   "metadata": {},
   "source": [
    "### Wrong Temperature Zone"
   ]
  },
  {
   "cell_type": "markdown",
   "metadata": {},
   "source": [
    "\"LOPEZ FOOD INC\" is the only Supplier to pack Beef patty in Temp Zone \"R\" and sent 105 cases in total. They are also responsible for sending \"Canadian Bacon/Natural juice\" in Temp Zone \"R\""
   ]
  },
  {
   "cell_type": "code",
   "execution_count": null,
   "metadata": {
    "collapsed": false
   },
   "outputs": [],
   "source": [
    "DC_Volume[(DC_Volume['Wrin Prefix']=='00006-4/1 BEEF PATTY') & (DC_Volume['Wrin Temp Zone']=='R')]"
   ]
  },
  {
   "cell_type": "markdown",
   "metadata": {},
   "source": [
    "Find the most number of cases sent by a supplier\n",
    "\n",
    "Why is 1 item measured in KG but the gross weight in LBS. is this typo error?\n",
    "\n",
    "Check what all items goes to each DCs"
   ]
  },
  {
   "cell_type": "markdown",
   "metadata": {},
   "source": [
    "### Basic visualization"
   ]
  },
  {
   "cell_type": "code",
   "execution_count": null,
   "metadata": {
    "collapsed": false
   },
   "outputs": [],
   "source": [
    "#Top and least suppliers for Mcdonalds\n",
    "#plt.figure()\n",
    "\n",
    "plt.figure(figsize=(50,20))\n",
    "plt.subplot(121)\n",
    "\n",
    "df = DC_Volume[['Supplier Parent Name','DC Receipts Cases Received']]\n",
    "df['Supplier Parent Name']=df['Supplier Parent Name'].replace(['COCA-COLA COMPANY (THE)/MCDONALDS ACCOUNT GROUP'],value='COCA-COLA MCD')\n",
    "df['Supplier Parent Name']=df['Supplier Parent Name'].replace(['COCA-COLA COMPANY (THE)/MOTHER PARKERS FOODS LTD'],value='COCA-COLA Mother')\n",
    "grouped = df.groupby(df['Supplier Parent Name']).sum().reset_index()\n",
    "grouped = grouped.sort_values('DC Receipts Cases Received', ascending = False)\n",
    "sns.barplot(grouped['Supplier Parent Name'][:15], grouped['DC Receipts Cases Received'][:15])\n",
    "plt.title(\"Top 15 Suppliers\",size=50)\n",
    "plt.ylabel(\"Cases Recevied by DC\",size=40)\n",
    "plt.xticks(rotation=90,size=30)\n",
    "plt.yticks(size=30)\n",
    "plt.xlabel('Supplier Name',size=50)\n",
    "\n",
    "plt.subplot(122)\n",
    "sns.barplot(grouped['Supplier Parent Name'][-15:], grouped['DC Receipts Cases Received'][-15:])\n",
    "plt.title(\"Least 15 Suppliers\",size=50)\n",
    "plt.ylabel(\"Cases Recevied by DC\",size=40)\n",
    "plt.xticks(rotation=90,size=30)\n",
    "plt.yticks(size=30)\n",
    "plt.xlabel('Supplier Name',size=50)\n",
    "plt.show()\n"
   ]
  },
  {
   "cell_type": "markdown",
   "metadata": {
    "collapsed": true
   },
   "source": [
    "# DC outbound"
   ]
  },
  {
   "cell_type": "code",
   "execution_count": null,
   "metadata": {
    "collapsed": true
   },
   "outputs": [],
   "source": [
    "df_outbound = pd.read_excel(loca_path+\"DC Sales_DC7.xlsx\")"
   ]
  },
  {
   "cell_type": "code",
   "execution_count": null,
   "metadata": {
    "collapsed": false
   },
   "outputs": [],
   "source": [
    "df_outbound.head(1)"
   ]
  },
  {
   "cell_type": "code",
   "execution_count": null,
   "metadata": {
    "collapsed": false
   },
   "outputs": [],
   "source": [
    "len(df_outbound['Rest ID'].unique())"
   ]
  }
 ],
 "metadata": {
  "anaconda-cloud": {},
  "kernelspec": {
   "display_name": "Python [conda root]",
   "language": "python",
   "name": "conda-root-py"
  },
  "language_info": {
   "codemirror_mode": {
    "name": "ipython",
    "version": 3
   },
   "file_extension": ".py",
   "mimetype": "text/x-python",
   "name": "python",
   "nbconvert_exporter": "python",
   "pygments_lexer": "ipython3",
   "version": "3.5.2"
  }
 },
 "nbformat": 4,
 "nbformat_minor": 2
}
